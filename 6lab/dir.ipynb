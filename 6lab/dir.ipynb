{
 "cells": [
  {
   "cell_type": "code",
   "execution_count": 1,
   "id": "16fde7d7-b9cf-4396-81a0-b6518618cb82",
   "metadata": {},
   "outputs": [],
   "source": [
    "import os"
   ]
  },
  {
   "cell_type": "code",
   "execution_count": 3,
   "id": "5f29f20e-a608-4e2f-8c9c-0217b7ddb07f",
   "metadata": {},
   "outputs": [
    {
     "name": "stdin",
     "output_type": "stream",
     "text": [
      " C:\\Users\\Zhanerke\\Documents\n"
     ]
    },
    {
     "name": "stdout",
     "output_type": "stream",
     "text": [
      "Error\n",
      "Error\n",
      "Error\n"
     ]
    }
   ],
   "source": [
    "import os\n",
    "\n",
    "def directories(path):\n",
    "    try:\n",
    "        items = os.listdir(path)\n",
    "        directory = []\n",
    "        for i in items:\n",
    "            each_path = os.path.join(path, i)\n",
    "            if os.path.isdir(each_path):\n",
    "                directory.append(i)\n",
    "        print(\"Directories:\")\n",
    "        for i in directory:\n",
    "            print(i)\n",
    "    except FileNotFoundError:\n",
    "        print(\"Error\")\n",
    "\n",
    "def files(path):\n",
    "    try:\n",
    "        items = os.listdir(path)\n",
    "        files = []\n",
    "        for i in items:\n",
    "            each_path = os.path.join(path, i)\n",
    "            if os.path.isfile(each_path):\n",
    "                files.append(i)\n",
    "        print(\"\\nFiles:\")\n",
    "        for file in files:\n",
    "            print(file)\n",
    "    except FileNotFoundError:\n",
    "        print(\"Error\")\n",
    "def list_all(path):\n",
    "    try:\n",
    "        items = os.listdir(path)\n",
    "        print(\"\\nAll directories and files:\")\n",
    "        for i in items:\n",
    "            print(i)\n",
    "    except FileNotFoundError:\n",
    "        print(\"Error\")\n",
    "\n",
    "path = input()\n",
    "\n",
    "directories(path)\n",
    "files(path)\n",
    "list_all(path)"
   ]
  },
  {
   "cell_type": "code",
   "execution_count": 5,
   "id": "398c4932-0e01-4d3c-93aa-c620a4c448e3",
   "metadata": {},
   "outputs": [
    {
     "name": "stdin",
     "output_type": "stream",
     "text": [
      " C:\\Users\\Zhanerke\\Documents\n"
     ]
    },
    {
     "name": "stdout",
     "output_type": "stream",
     "text": [
      "Path does NOT exist.\n"
     ]
    }
   ],
   "source": [
    "import os\n",
    "def checking(path):\n",
    "    if os.path.exists(path):\n",
    "        print(\"Path exists.\")\n",
    "    else:\n",
    "        print(\"Path does NOT exist.\")\n",
    "        return \n",
    "    \n",
    "    if os.access(path, os.R_OK):\n",
    "        print(\"Path is readable.\")\n",
    "    else:\n",
    "        print(\"Path is NOT readable.\")\n",
    "\n",
    "    if os.access(path, os.W_OK):\n",
    "        print(\"Path is writable.\")\n",
    "    else:\n",
    "        print(\"Path is NOT writable.\")\n",
    "\n",
    "    if os.access(path, os.X_OK):\n",
    "        print(\"Path is executable.\")\n",
    "    else:\n",
    "        print(\"Path is NOT executable.\")\n",
    "        \n",
    "path = input()\n",
    "checking(path)"
   ]
  },
  {
   "cell_type": "code",
   "execution_count": 7,
   "id": "eef33f05-ff27-43b0-898e-78dd44bc6e25",
   "metadata": {},
   "outputs": [
    {
     "name": "stdin",
     "output_type": "stream",
     "text": [
      " C:\\Users\\Zhanerke\\Documents\n"
     ]
    },
    {
     "name": "stdout",
     "output_type": "stream",
     "text": [
      "Path doesn't exist.\n"
     ]
    }
   ],
   "source": [
    "import os\n",
    "def checking(path):\n",
    "    if os.path.exists(path):\n",
    "        print(f\"Path exists: {path}.\")\n",
    "        directory = os.path.dirname(path)\n",
    "        print(f\"directory: {directory}\")\n",
    "        filename = os.path.basename(path)\n",
    "        print(f\"filename: {filename}\")\n",
    "    else:\n",
    "        print(\"Path doesn't exist.\")\n",
    "path = input()\n",
    "checking(path)"
   ]
  },
  {
   "cell_type": "code",
   "execution_count": 9,
   "id": "cb89bcf3-0f44-4bff-aaf0-ed999134ade0",
   "metadata": {},
   "outputs": [
    {
     "name": "stdin",
     "output_type": "stream",
     "text": [
      " C:\\Users\\Zhanerke\\Documents\n"
     ]
    },
    {
     "name": "stdout",
     "output_type": "stream",
     "text": [
      "The file does not exist.\n"
     ]
    }
   ],
   "source": [
    "def count(filename):\n",
    "    try:\n",
    "        file = open(filename, 'r')\n",
    "        line_count = 0 \n",
    "        for line in file: \n",
    "            line_count += 1\n",
    "        file.close()\n",
    "        print(f\"{line_count} lines.\")\n",
    "\n",
    "    except FileNotFoundError:\n",
    "        print(\"The file does not exist.\")\n",
    "        \n",
    "filename = input()\n",
    "count(filename)"
   ]
  },
  {
   "cell_type": "code",
   "execution_count": 11,
   "id": "9fa13477-a73d-4620-9079-107f154c6547",
   "metadata": {},
   "outputs": [
    {
     "name": "stdout",
     "output_type": "stream",
     "text": [
      "List has been written to fruits.txt\n"
     ]
    }
   ],
   "source": [
    "def list_file(filename, data_list):\n",
    "    try:\n",
    "        file = open(filename, 'w')  \n",
    "        for i in data_list:\n",
    "            file.write(i + \"\\n\")  \n",
    "        file.close()  \n",
    "        print(f\"List has been written to {filename}\")\n",
    "    except Exception as e:\n",
    "        print(f\"Error: {e}\")\n",
    "\n",
    "my_list = [\"Apple\", \"Banana\", \"Cherry\", \"Date\", \"Elderberry\"]\n",
    "filename = \"fruits.txt\"\n",
    "list_file(filename, my_list)"
   ]
  },
  {
   "cell_type": "code",
   "execution_count": 13,
   "id": "d4fe35a0-a366-4d3f-b1cd-73f08fb232e8",
   "metadata": {},
   "outputs": [
    {
     "name": "stdout",
     "output_type": "stream",
     "text": [
      "Created: A.txt\n",
      "Created: B.txt\n",
      "Created: C.txt\n",
      "Created: D.txt\n",
      "Created: E.txt\n",
      "Created: F.txt\n",
      "Created: G.txt\n",
      "Created: H.txt\n",
      "Created: I.txt\n",
      "Created: J.txt\n",
      "Created: K.txt\n",
      "Created: L.txt\n",
      "Created: M.txt\n",
      "Created: N.txt\n",
      "Created: O.txt\n",
      "Created: P.txt\n",
      "Created: Q.txt\n",
      "Created: R.txt\n",
      "Created: S.txt\n",
      "Created: T.txt\n",
      "Created: U.txt\n",
      "Created: V.txt\n",
      "Created: W.txt\n",
      "Created: X.txt\n",
      "Created: Y.txt\n",
      "Created: Z.txt\n"
     ]
    }
   ],
   "source": [
    "import string\n",
    "for letter in string.ascii_uppercase:\n",
    "    file = open(f\"{letter}.txt\", \"w\")\n",
    "    file.write(f\"This is file {letter}.txt\\n\") \n",
    "    file.close() \n",
    "    print(f\"Created: {letter}.txt\")"
   ]
  },
  {
   "cell_type": "code",
   "execution_count": 15,
   "id": "927f4155-5e40-4dcc-9e2f-026ea7f973f9",
   "metadata": {},
   "outputs": [
    {
     "name": "stdout",
     "output_type": "stream",
     "text": [
      "Hello, kbtu!\n"
     ]
    }
   ],
   "source": [
    "a = open(\"copy.txt\", \"r\")  \n",
    "b = open(\"dublicate.txt\", \"w\")  \n",
    "b.write(a.read())  \n",
    "a.close()  \n",
    "b.close()  \n",
    "b = open(\"dublicate.txt\", \"r\")  \n",
    "print(b.read())  \n",
    "b.close()"
   ]
  },
  {
   "cell_type": "code",
   "execution_count": 17,
   "id": "555130c4-ee45-46a8-b1b5-d9e977c5f08b",
   "metadata": {},
   "outputs": [
    {
     "name": "stdout",
     "output_type": "stream",
     "text": [
      "Error: The file '/Users/albina/Desktop/ҚТ 1-СРС VI-XII ғ. түрік мемлекеттері (2).docx' does not exist.\n"
     ]
    }
   ],
   "source": [
    "import os\n",
    "file_path = r\"/Users/albina/Desktop/ҚТ 1-СРС VI-XII ғ. түрік мемлекеттері (2).docx\"\n",
    "if os.path.exists(file_path):\n",
    "    if os.access(file_path, os.W_OK):\n",
    "        os.remove(file_path) \n",
    "        print(f\"File '{file_path}' has been deleted.\")\n",
    "    else:\n",
    "        print(f\"Error: No write access to '{file_path}'.\")\n",
    "else:\n",
    "    print(f\"Error: The file '{file_path}' does not exist.\")"
   ]
  },
  {
   "cell_type": "code",
   "execution_count": null,
   "id": "38188e10-a39b-40e3-a2de-87f666617757",
   "metadata": {},
   "outputs": [],
   "source": []
  }
 ],
 "metadata": {
  "kernelspec": {
   "display_name": "Python [conda env:base] *",
   "language": "python",
   "name": "conda-base-py"
  },
  "language_info": {
   "codemirror_mode": {
    "name": "ipython",
    "version": 3
   },
   "file_extension": ".py",
   "mimetype": "text/x-python",
   "name": "python",
   "nbconvert_exporter": "python",
   "pygments_lexer": "ipython3",
   "version": "3.12.7"
  }
 },
 "nbformat": 4,
 "nbformat_minor": 5
}
