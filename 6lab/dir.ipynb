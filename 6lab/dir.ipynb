{
 "cells": [
  {
   "cell_type": "code",
   "execution_count": 1,
   "id": "16fde7d7-b9cf-4396-81a0-b6518618cb82",
   "metadata": {},
   "outputs": [],
   "source": [
    "import os"
   ]
  },
  {
   "cell_type": "code",
   "execution_count": 21,
   "id": "5f29f20e-a608-4e2f-8c9c-0217b7ddb07f",
   "metadata": {},
   "outputs": [],
   "source": [
    "def list_dir_files(path):\n",
    "    all_items = os.listdir(path)\n",
    "    dirs = [item for item in all_items if os.path.isdir(os.path.join(path, item))]\n",
    "    files = [item for item in all_items if os.path.isfile(os.path.join(path, item))]\n",
    "\n",
    "    print(\"Directories:\", dirs)\n",
    "    print(\"Files:\", files)\n",
    "    print(\"All Items:\", all_items)\n",
    "    path=r\"C:\\OneDrive - aues.kz\\Desktop\\6lab\\my\""
   ]
  },
  {
   "cell_type": "code",
   "execution_count": 7,
   "id": "398c4932-0e01-4d3c-93aa-c620a4c448e3",
   "metadata": {},
   "outputs": [],
   "source": [
    "def check_access(path):\n",
    "    print(\"Exists:\", os.path.exists(path))\n",
    "    print(\"Readable:\", os.access(path, os.R_OK))\n",
    "    print(\"Writable:\", os.access(path, os.W_OK))\n",
    "    print(\"Executable:\", os.access(path, os.X_OK))"
   ]
  },
  {
   "cell_type": "code",
   "execution_count": 23,
   "id": "eef33f05-ff27-43b0-898e-78dd44bc6e25",
   "metadata": {},
   "outputs": [],
   "source": [
    "def test_path_details(path):\n",
    "    if os.path.exists(path):\n",
    "        print(\"Path exists.\")\n",
    "        print(\"Directory:\", os.path.dirname(path))\n",
    "        print(\"Filename:\", os.path.basename(path))\n",
    "    else:\n",
    "        print(\"Path does not exist.\")"
   ]
  },
  {
   "cell_type": "code",
   "execution_count": 25,
   "id": "cb89bcf3-0f44-4bff-aaf0-ed999134ade0",
   "metadata": {},
   "outputs": [],
   "source": [
    "def count_lines(file_path):\n",
    "    with open(file_path, 'r') as file:\n",
    "        print(\"Number of lines:\", len(file.readlines()))\n",
    "txt=r\"C:\\OneDrive - aues.kz\\Desktop\\6lab\\my.text\"\n"
   ]
  },
  {
   "cell_type": "code",
   "execution_count": 27,
   "id": "9fa13477-a73d-4620-9079-107f154c6547",
   "metadata": {},
   "outputs": [],
   "source": [
    "def write_list_to_file(list_items, file_path):\n",
    "    with open(file_path, 'w') as file:\n",
    "        for item in list_items:\n",
    "            file.write(f\"{item}\\n\")"
   ]
  },
  {
   "cell_type": "code",
   "execution_count": 29,
   "id": "d4fe35a0-a366-4d3f-b1cd-73f08fb232e8",
   "metadata": {},
   "outputs": [],
   "source": [
    "def generate_26_files():\n",
    "    for i in range(65, 91):  # ASCII codes from A to Z\n",
    "        with open(f\"{chr(i)}.txt\", 'w') as file:\n",
    "            file.write(chr(i))"
   ]
  },
  {
   "cell_type": "code",
   "execution_count": 31,
   "id": "927f4155-5e40-4dcc-9e2f-026ea7f973f9",
   "metadata": {},
   "outputs": [],
   "source": [
    "def copy_file(source_path, destination_path):\n",
    "    with open(source_path, 'r') as source, open(destination_path, 'w') as dest:\n",
    "        dest.write(source.read())\n",
    "txt2=r\"C:\\OneDrive - aues.kz\\Desktop\\6lab\\my.text\""
   ]
  },
  {
   "cell_type": "code",
   "execution_count": 33,
   "id": "555130c4-ee45-46a8-b1b5-d9e977c5f08b",
   "metadata": {},
   "outputs": [],
   "source": [
    "def delete_file(path):\n",
    "    if os.path.exists(path) and os.access(path, os.W_OK):\n",
    "        os.remove(path)\n",
    "        print(\"File deleted.\")\n",
    "    else:\n",
    "        print(\"File does not exist or is not accessible.\")"
   ]
  },
  {
   "cell_type": "code",
   "execution_count": null,
   "id": "38188e10-a39b-40e3-a2de-87f666617757",
   "metadata": {},
   "outputs": [],
   "source": []
  }
 ],
 "metadata": {
  "kernelspec": {
   "display_name": "Python [conda env:base] *",
   "language": "python",
   "name": "conda-base-py"
  },
  "language_info": {
   "codemirror_mode": {
    "name": "ipython",
    "version": 3
   },
   "file_extension": ".py",
   "mimetype": "text/x-python",
   "name": "python",
   "nbconvert_exporter": "python",
   "pygments_lexer": "ipython3",
   "version": "3.12.7"
  }
 },
 "nbformat": 4,
 "nbformat_minor": 5
}
