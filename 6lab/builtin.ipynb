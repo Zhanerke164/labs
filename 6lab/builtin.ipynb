{
 "cells": [
  {
   "cell_type": "code",
   "execution_count": 1,
   "id": "13373b51-e924-4d5c-a1d0-41ac0171827b",
   "metadata": {},
   "outputs": [],
   "source": [
    "from functools import reduce\n",
    "from operator import mul\n",
    "import time\n",
    "import math"
   ]
  },
  {
   "cell_type": "code",
   "execution_count": 3,
   "id": "f74d1036-0eb1-4949-a37f-6fa6ead44a1c",
   "metadata": {},
   "outputs": [
    {
     "name": "stdout",
     "output_type": "stream",
     "text": [
      "120\n"
     ]
    }
   ],
   "source": [
    "def multiply_list(num):\n",
    "    return(reduce(mul,num))\n",
    "numbers = [1, 2, 3, 4, 5]\n",
    "print(multiply_list(numbers))"
   ]
  },
  {
   "cell_type": "code",
   "execution_count": 5,
   "id": "671602b2-9711-4a69-95be-1c2680e3d166",
   "metadata": {},
   "outputs": [
    {
     "name": "stdout",
     "output_type": "stream",
     "text": [
      "Upper: 2, lower:3\n"
     ]
    }
   ],
   "source": [
    "def calculate_letters(s):\n",
    "    upper=sum(1 for char in s if char.isupper())\n",
    "    lower=sum(1 for char in s if char.islower())\n",
    "    return upper, lower\n",
    "upper,lower=calculate_letters(\"HellO\")\n",
    "print(f\"Upper: {upper}, lower:{lower}\")"
   ]
  },
  {
   "cell_type": "code",
   "execution_count": 7,
   "id": "441fd243-933b-4bfe-aa2f-015ee8c5f146",
   "metadata": {},
   "outputs": [
    {
     "name": "stdout",
     "output_type": "stream",
     "text": [
      "Is Palindrome\n"
     ]
    }
   ],
   "source": [
    "def is_palindrome(str):\n",
    "    reverse=\"\".join(reversed(str))\n",
    "    if reverse==str:\n",
    "        return \"Is Palindrome\"\n",
    "    else:\n",
    "        return \"Is not Palindrome\"\n",
    "print(is_palindrome(\"hakervrekah\"))"
   ]
  },
  {
   "cell_type": "code",
   "execution_count": 11,
   "id": "3b357788-17ed-4f81-a54a-c231e11a9af1",
   "metadata": {},
   "outputs": [
    {
     "name": "stdout",
     "output_type": "stream",
     "text": [
      "Square root of 25100 after 2123 miliseconds is 158.42979517754858\n"
     ]
    }
   ],
   "source": [
    "def delayed_sqrt(n, delay_ms):\n",
    "    time.sleep(delay_ms / 1000)\n",
    "    return math.sqrt(n)\n",
    "n=25100\n",
    "delay_ms=2123\n",
    "result=delayed_sqrt(n,delay_ms)\n",
    "print(f\"Square root of {n} after {delay_ms} miliseconds is {result}\")\n"
   ]
  },
  {
   "cell_type": "code",
   "execution_count": 13,
   "id": "519019bd-5016-4592-bfc3-f5a572182c37",
   "metadata": {},
   "outputs": [
    {
     "name": "stdout",
     "output_type": "stream",
     "text": [
      "True\n",
      "False\n"
     ]
    }
   ],
   "source": [
    "def all_true(elements):\n",
    "    return all(elements)\n",
    "print(all_true((True, True, True)))\n",
    "print(all_true((True, False, True)))"
   ]
  },
  {
   "cell_type": "code",
   "execution_count": null,
   "id": "d712bb74-2b4e-4e9f-9ae3-dfa4f03fca41",
   "metadata": {},
   "outputs": [],
   "source": []
  }
 ],
 "metadata": {
  "kernelspec": {
   "display_name": "Python [conda env:base] *",
   "language": "python",
   "name": "conda-base-py"
  },
  "language_info": {
   "codemirror_mode": {
    "name": "ipython",
    "version": 3
   },
   "file_extension": ".py",
   "mimetype": "text/x-python",
   "name": "python",
   "nbconvert_exporter": "python",
   "pygments_lexer": "ipython3",
   "version": "3.12.7"
  }
 },
 "nbformat": 4,
 "nbformat_minor": 5
}
