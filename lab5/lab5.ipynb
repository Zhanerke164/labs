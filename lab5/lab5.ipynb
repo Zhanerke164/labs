{
 "cells": [
  {
   "cell_type": "code",
   "execution_count": 1,
   "id": "aa749785-b553-40e0-af28-6cedb134ceb9",
   "metadata": {},
   "outputs": [
    {
     "name": "stdout",
     "output_type": "stream",
     "text": [
      "['a', 'a', 'a', 'ab', 'a', 'a']\n"
     ]
    }
   ],
   "source": [
    "import re\n",
    "txt = \"You are attractive person, abaila\"\n",
    "x = re.findall(r'ab*', txt)\n",
    "print(x)"
   ]
  },
  {
   "cell_type": "code",
   "execution_count": 3,
   "id": "c48bad8b-0fa2-4c30-b210-8c8cb1213e88",
   "metadata": {},
   "outputs": [
    {
     "name": "stdout",
     "output_type": "stream",
     "text": [
      "['abb', 'abbb']\n"
     ]
    }
   ],
   "source": [
    "import re\n",
    "txt = \"abbot elementary workabbbt\"\n",
    "x = re.findall(r'ab{2,3}', txt)\n",
    "print(x)"
   ]
  },
  {
   "cell_type": "code",
   "execution_count": 41,
   "id": "c891b9a4-1653-4b63-b8ca-bb693cdce0b8",
   "metadata": {},
   "outputs": [
    {
     "name": "stdout",
     "output_type": "stream",
     "text": [
      "['aslald_asdsad', 'a_a', 'a_b']\n"
     ]
    }
   ],
   "source": [
    "import re\n",
    "txt = \" abbb asdda aslald_asdsad a_a a_b\"\n",
    "x=re.findall(r'\\b[a-z]+_[a-z]+\\b', txt)\n",
    "print(x)"
   ]
  },
  {
   "cell_type": "code",
   "execution_count": 39,
   "id": "d8bac254-1855-40c9-9b9a-5dc5f6221bb5",
   "metadata": {},
   "outputs": [
    {
     "name": "stdout",
     "output_type": "stream",
     "text": [
      "['My', 'Kitty']\n"
     ]
    }
   ],
   "source": [
    "import re\n",
    "txt = \"My name is Kitty abbb sdasd_asdsad a_a a_b\"\n",
    "x=re.findall(r'[A-Z][a-z]+', txt)\n",
    "print(x)"
   ]
  },
  {
   "cell_type": "code",
   "execution_count": 45,
   "id": "516df00b-540a-493c-839f-8a26c49f7886",
   "metadata": {},
   "outputs": [
    {
     "name": "stdout",
     "output_type": "stream",
     "text": [
      "['ab', 'aaaaaaaaab']\n"
     ]
    }
   ],
   "source": [
    "import re\n",
    "txt = \" abbb asdda_asdasd_asdsad a_a a_b ab a_b aaaaaaaaab bab 175569ab\"\n",
    "x=re.findall(r'\\ba+b\\b', txt)\n",
    "print(x)"
   ]
  },
  {
   "cell_type": "code",
   "execution_count": 9,
   "id": "9dee62bb-bb02-4764-89a3-952de6153eb7",
   "metadata": {},
   "outputs": [
    {
     "name": "stdout",
     "output_type": "stream",
     "text": [
      "Hello::world:this:is:me.\n"
     ]
    }
   ],
   "source": [
    "import re\n",
    "txt = \"Hello, world this is me.\"\n",
    "x = re.sub(r\"\\s|,|;\", \":\", txt)\n",
    "print(x)"
   ]
  },
  {
   "cell_type": "code",
   "execution_count": 57,
   "id": "2221a10f-2647-41be-aa2e-f9c5c90be3e5",
   "metadata": {},
   "outputs": [
    {
     "name": "stdout",
     "output_type": "stream",
     "text": [
      "PythonssRegex\n"
     ]
    }
   ],
   "source": [
    "import re\n",
    "txt=\"pythonss_regex\"\n",
    "x=re.sub(r'_([a-z])', lambda x: x.group(1).upper(),txt)\n",
    "x=re.sub(r'\\b([a-z])', lambda x: x.group(1).upper(),x)\n",
    "print(x)"
   ]
  },
  {
   "cell_type": "code",
   "execution_count": 59,
   "id": "da63f1eb-a24c-4b2f-858b-1be0335dead4",
   "metadata": {},
   "outputs": [
    {
     "name": "stdout",
     "output_type": "stream",
     "text": [
      "['Is', 'Awesome']\n"
     ]
    }
   ],
   "source": [
    "import re\n",
    "txt=\"pythonIsAwesome\"\n",
    "a = re.findall('[A-Z][^A-Z]*', txt)\n",
    "x=a\n",
    "print(x)"
   ]
  },
  {
   "cell_type": "code",
   "execution_count": 15,
   "id": "9486b018-b28e-4e0a-b058-8e196f4b6c5a",
   "metadata": {},
   "outputs": [
    {
     "name": "stdout",
     "output_type": "stream",
     "text": [
      "you Are Beatiful Like Diomond In The Sky\n"
     ]
    }
   ],
   "source": [
    "import re\n",
    "txt=\"youAreBeatifulLikeDiomondInTheSky\"\n",
    "x=re.sub(r'([a-z])([A-Z])', r'\\1 \\2', txt)\n",
    "print(x)"
   ]
  },
  {
   "cell_type": "code",
   "execution_count": 17,
   "id": "67e57d65-8e0f-4bdf-8b67-cf7dd9e6d176",
   "metadata": {},
   "outputs": [
    {
     "name": "stdout",
     "output_type": "stream",
     "text": [
      "python_regex_is_cool\n"
     ]
    }
   ],
   "source": [
    "import re\n",
    "txt = \"PythonRegexIsCool\"\n",
    "x = re.sub(r'([a-z])([A-Z])', r'\\1_\\2', txt)\n",
    "print(x.lower())"
   ]
  },
  {
   "cell_type": "code",
   "execution_count": null,
   "id": "3e5320fb-10d3-416e-b634-96cd2526e5ca",
   "metadata": {},
   "outputs": [],
   "source": []
  }
 ],
 "metadata": {
  "kernelspec": {
   "display_name": "Python [conda env:base] *",
   "language": "python",
   "name": "conda-base-py"
  },
  "language_info": {
   "codemirror_mode": {
    "name": "ipython",
    "version": 3
   },
   "file_extension": ".py",
   "mimetype": "text/x-python",
   "name": "python",
   "nbconvert_exporter": "python",
   "pygments_lexer": "ipython3",
   "version": "3.12.7"
  }
 },
 "nbformat": 4,
 "nbformat_minor": 5
}
