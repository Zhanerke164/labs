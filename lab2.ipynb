{
 "cells": [
  {
   "cell_type": "markdown",
   "id": "10d056ca-1c95-421b-ac60-fd3f52419160",
   "metadata": {},
   "source": [
    "Ex-1"
   ]
  },
  {
   "cell_type": "code",
   "execution_count": 2,
   "id": "4bc7fa96-ca8a-40d1-9761-eb4c5e4bc2b9",
   "metadata": {},
   "outputs": [
    {
     "name": "stdout",
     "output_type": "stream",
     "text": [
      "True\n",
      "False\n",
      "False\n"
     ]
    }
   ],
   "source": [
    "print(10 > 9)\n",
    "print(10 == 9)\n",
    "print(10 < 9)"
   ]
  },
  {
   "cell_type": "markdown",
   "id": "e0a1e3cc-5de7-4116-ba3f-fda4eb818948",
   "metadata": {},
   "source": [
    "Ex-2"
   ]
  },
  {
   "cell_type": "code",
   "execution_count": 5,
   "id": "b841592c-5189-49d3-a51f-13a98cf8727b",
   "metadata": {},
   "outputs": [
    {
     "name": "stdout",
     "output_type": "stream",
     "text": [
      "b is not greater than a\n"
     ]
    }
   ],
   "source": [
    "a = 200\n",
    "b = 33\n",
    "\n",
    "if b > a:\n",
    "  print(\"b is greater than a\")\n",
    "else:\n",
    "  print(\"b is not greater than a\")"
   ]
  },
  {
   "cell_type": "markdown",
   "id": "74b3155e-eae5-4fa0-ace6-dca546a61c24",
   "metadata": {},
   "source": [
    "Ex-3"
   ]
  },
  {
   "cell_type": "code",
   "execution_count": 8,
   "id": "a6ae3178-71e3-4d11-8155-2d9edf6c421a",
   "metadata": {},
   "outputs": [
    {
     "name": "stdout",
     "output_type": "stream",
     "text": [
      "True\n",
      "True\n"
     ]
    }
   ],
   "source": [
    "print(bool(\"Hello\"))\n",
    "print(bool(15))"
   ]
  },
  {
   "cell_type": "markdown",
   "id": "be5a253a-488a-4499-b20d-ba5919303bab",
   "metadata": {},
   "source": [
    "Ex-4"
   ]
  },
  {
   "cell_type": "code",
   "execution_count": 11,
   "id": "541d01ea-d9d2-4421-8990-94f0c8aa4428",
   "metadata": {},
   "outputs": [
    {
     "name": "stdout",
     "output_type": "stream",
     "text": [
      "True\n",
      "True\n"
     ]
    }
   ],
   "source": [
    "x = \"Hello\"\n",
    "y = 15\n",
    "\n",
    "print(bool(x))\n",
    "print(bool(y))"
   ]
  },
  {
   "cell_type": "markdown",
   "id": "e1fbba30-7d7e-48b8-9579-a35e18ae841e",
   "metadata": {},
   "source": [
    "Ex-5"
   ]
  },
  {
   "cell_type": "code",
   "execution_count": 13,
   "id": "455657e2-4d05-40cb-954e-544eb48376ab",
   "metadata": {},
   "outputs": [
    {
     "data": {
      "text/plain": [
       "True"
      ]
     },
     "execution_count": 13,
     "metadata": {},
     "output_type": "execute_result"
    }
   ],
   "source": [
    "bool(\"abc\")\n",
    "bool(123)\n",
    "bool([\"apple\", \"cherry\", \"banana\"])"
   ]
  },
  {
   "cell_type": "markdown",
   "id": "da39948d-1a0e-4cbb-9133-ddc14d028aa3",
   "metadata": {},
   "source": [
    "Ex-6"
   ]
  },
  {
   "cell_type": "code",
   "execution_count": 16,
   "id": "6f936e08-f36b-4712-b29b-28aa847e623f",
   "metadata": {},
   "outputs": [
    {
     "data": {
      "text/plain": [
       "False"
      ]
     },
     "execution_count": 16,
     "metadata": {},
     "output_type": "execute_result"
    }
   ],
   "source": [
    "bool(False)\n",
    "bool(None)\n",
    "bool(0)\n",
    "bool(\"\")\n",
    "bool(())\n",
    "bool([])\n",
    "bool({})"
   ]
  },
  {
   "cell_type": "markdown",
   "id": "3aec1cb0-135d-483f-8cb3-92c3241e40e1",
   "metadata": {},
   "source": [
    "Ex-7"
   ]
  },
  {
   "cell_type": "code",
   "execution_count": 19,
   "id": "8dfe452a-476e-4eec-b7fa-a23430e680de",
   "metadata": {},
   "outputs": [
    {
     "name": "stdout",
     "output_type": "stream",
     "text": [
      "False\n"
     ]
    }
   ],
   "source": [
    "class myclass():\n",
    "  def __len__(self):\n",
    "    return 0\n",
    "\n",
    "myobj = myclass()\n",
    "print(bool(myobj))"
   ]
  },
  {
   "cell_type": "markdown",
   "id": "38fdc0d9-c6ed-4501-bef6-579ce934ea07",
   "metadata": {},
   "source": [
    "Ex-8"
   ]
  },
  {
   "cell_type": "code",
   "execution_count": 22,
   "id": "f11af65b-56d7-4420-9f7f-325c9b9391fa",
   "metadata": {},
   "outputs": [
    {
     "name": "stdout",
     "output_type": "stream",
     "text": [
      "True\n"
     ]
    }
   ],
   "source": [
    "def myFunction() :\n",
    "  return True\n",
    "\n",
    "print(myFunction())"
   ]
  },
  {
   "cell_type": "markdown",
   "id": "75a9df9b-9ec1-4ea6-be97-63c8e1d65270",
   "metadata": {},
   "source": [
    "Ex-9"
   ]
  },
  {
   "cell_type": "code",
   "execution_count": 25,
   "id": "a439fe58-d847-423b-83c7-2891937861c7",
   "metadata": {},
   "outputs": [
    {
     "name": "stdout",
     "output_type": "stream",
     "text": [
      "YES!\n"
     ]
    }
   ],
   "source": [
    "def myFunction() :\n",
    "  return True\n",
    "\n",
    "if myFunction():\n",
    "  print(\"YES!\")\n",
    "else:\n",
    "  print(\"NO!\")"
   ]
  },
  {
   "cell_type": "markdown",
   "id": "7a9e0a48-ba65-4eb1-bdcb-10857ab1e226",
   "metadata": {},
   "source": [
    "Ex-10"
   ]
  },
  {
   "cell_type": "code",
   "execution_count": 32,
   "id": "f94d352a-3d89-48d7-a889-f95a65f308fb",
   "metadata": {},
   "outputs": [
    {
     "name": "stdout",
     "output_type": "stream",
     "text": [
      "True\n"
     ]
    }
   ],
   "source": [
    "x=1640\n",
    "print(isinstance(x,int))"
   ]
  },
  {
   "cell_type": "markdown",
   "id": "7be130ca-55a2-41bd-bb3c-9f6b0d72b0b5",
   "metadata": {},
   "source": [
    "Ex-11"
   ]
  },
  {
   "cell_type": "code",
   "execution_count": 34,
   "id": "f920b11a-2cbe-4933-b09f-cdfad711442b",
   "metadata": {},
   "outputs": [
    {
     "name": "stdout",
     "output_type": "stream",
     "text": [
      "15\n"
     ]
    }
   ],
   "source": [
    "print(10+5)"
   ]
  },
  {
   "cell_type": "markdown",
   "id": "8f2fe42b-ffdb-4bcf-8d2c-4db5f0f198bd",
   "metadata": {},
   "source": [
    "Ex-12"
   ]
  },
  {
   "cell_type": "code",
   "execution_count": 37,
   "id": "5e35ca2b-caa7-4722-b763-2524b2ee5ae3",
   "metadata": {},
   "outputs": [
    {
     "name": "stdout",
     "output_type": "stream",
     "text": [
      "32\n"
     ]
    }
   ],
   "source": [
    "x = 2\n",
    "y = 5\n",
    "\n",
    "print(x ** y) #same as 2*2*2*2*2 Exponentiation"
   ]
  },
  {
   "cell_type": "markdown",
   "id": "15d4fd46-b9dd-40b6-83b7-8f9630cf1ff9",
   "metadata": {},
   "source": [
    "Ex-13"
   ]
  },
  {
   "cell_type": "code",
   "execution_count": null,
   "id": "f0ea709f-1c30-4c13-8cbf-bff747c8853b",
   "metadata": {},
   "outputs": [],
   "source": [
    "x = 15\n",
    "y = 2\n",
    "\n",
    "print(x // y)\n",
    "\n",
    "#the floor division // rounds the result down to the nearest whole number"
   ]
  },
  {
   "cell_type": "markdown",
   "id": "51794ca4-c527-45dd-a2d1-e111ec66eae1",
   "metadata": {},
   "source": [
    "Ex-14"
   ]
  },
  {
   "cell_type": "code",
   "execution_count": 42,
   "id": "07d2f658-03e5-4f57-8c28-68528227f0db",
   "metadata": {},
   "outputs": [
    {
     "name": "stdout",
     "output_type": "stream",
     "text": [
      "1\n"
     ]
    }
   ],
   "source": [
    "x = 5\n",
    "\n",
    "x//=3\n",
    "\n",
    "print(x)"
   ]
  },
  {
   "cell_type": "markdown",
   "id": "626db610-28df-4f69-a4a3-cc8075db03dd",
   "metadata": {},
   "source": [
    "Ex-15"
   ]
  },
  {
   "cell_type": "code",
   "execution_count": 45,
   "id": "54faec97-8d06-4123-852c-f707f3362fb9",
   "metadata": {},
   "outputs": [
    {
     "name": "stdout",
     "output_type": "stream",
     "text": [
      "125\n"
     ]
    }
   ],
   "source": [
    "x = 5\n",
    "\n",
    "x **= 3\n",
    "\n",
    "print(x)"
   ]
  },
  {
   "cell_type": "markdown",
   "id": "d0aecb27-f139-4028-a1d4-419a6df14c15",
   "metadata": {},
   "source": [
    "Ex-16\n"
   ]
  },
  {
   "cell_type": "code",
   "execution_count": 48,
   "id": "cda3b98d-7402-451d-b6cf-097d4c7176ee",
   "metadata": {},
   "outputs": [
    {
     "name": "stdout",
     "output_type": "stream",
     "text": [
      "1\n"
     ]
    }
   ],
   "source": [
    "x = 5\n",
    "\n",
    "x &= 3\n",
    "\n",
    "print(x)"
   ]
  },
  {
   "cell_type": "markdown",
   "id": "b16b67ed-752f-49d2-89a5-9eb83db4df6f",
   "metadata": {},
   "source": [
    "Ex-17\n"
   ]
  },
  {
   "cell_type": "code",
   "execution_count": 51,
   "id": "8274966f-8b55-4ff6-b1ec-a037ca388db1",
   "metadata": {},
   "outputs": [
    {
     "name": "stdout",
     "output_type": "stream",
     "text": [
      "7\n"
     ]
    }
   ],
   "source": [
    "x = 5\n",
    "\n",
    "x |= 3\n",
    "\n",
    "print(x)"
   ]
  },
  {
   "cell_type": "markdown",
   "id": "4932b271-c024-46dc-95b1-0d5f933d6c59",
   "metadata": {},
   "source": [
    "Ex-18"
   ]
  },
  {
   "cell_type": "code",
   "execution_count": null,
   "id": "cf4ee730-cefe-4466-a422-f7d9e0f37f7a",
   "metadata": {},
   "outputs": [],
   "source": [
    "x = 5\n",
    "\n",
    "x ^= 4\n",
    "\n",
    "print(x)"
   ]
  },
  {
   "cell_type": "markdown",
   "id": "fc28ae42-fcf5-47e6-b0ae-e2dbfc49bb4a",
   "metadata": {},
   "source": [
    "Ex-19"
   ]
  },
  {
   "cell_type": "code",
   "execution_count": 56,
   "id": "760d7a25-9bfe-4335-b1b7-b0027e3bb279",
   "metadata": {},
   "outputs": [
    {
     "name": "stdout",
     "output_type": "stream",
     "text": [
      "0\n"
     ]
    }
   ],
   "source": [
    "x = 5\n",
    "\n",
    "x >>= 3\n",
    "\n",
    "print(x)"
   ]
  },
  {
   "cell_type": "markdown",
   "id": "7b3d3bb7-b6b8-4473-9d97-6166d4542aee",
   "metadata": {},
   "source": [
    "Ex-20"
   ]
  },
  {
   "cell_type": "code",
   "execution_count": 59,
   "id": "da98f701-fd77-43eb-93e9-e99bc4a5d0a5",
   "metadata": {},
   "outputs": [
    {
     "name": "stdout",
     "output_type": "stream",
     "text": [
      "40\n"
     ]
    }
   ],
   "source": [
    "x = 5\n",
    "\n",
    "x <<= 3\n",
    "\n",
    "print(x)"
   ]
  },
  {
   "cell_type": "markdown",
   "id": "c8adf855-4323-44b5-8f03-711ac4a8a9d4",
   "metadata": {},
   "source": [
    "Ex-21\n"
   ]
  },
  {
   "cell_type": "code",
   "execution_count": 62,
   "id": "a56fd0e2-576c-4b5b-b060-39d80049357f",
   "metadata": {},
   "outputs": [
    {
     "name": "stdout",
     "output_type": "stream",
     "text": [
      "3\n"
     ]
    }
   ],
   "source": [
    "print(x := 3)\n"
   ]
  },
  {
   "cell_type": "markdown",
   "id": "5f6bdce1-6e1f-495d-8f03-ba690cfe2be4",
   "metadata": {},
   "source": [
    "Ex-22"
   ]
  },
  {
   "cell_type": "code",
   "execution_count": 69,
   "id": "480af738-91e1-4d2f-be26-f1936156ac45",
   "metadata": {},
   "outputs": [
    {
     "name": "stdout",
     "output_type": "stream",
     "text": [
      "True\n",
      "True\n",
      "False\n"
     ]
    }
   ],
   "source": [
    "x = [\"apple\", \"banana\"]\n",
    "y = [\"apple\", \"banana\"]\n",
    "z = x\n",
    "print(x is z)\n",
    "print(x is not y)\n",
    "print(x != y)"
   ]
  },
  {
   "cell_type": "markdown",
   "id": "654ec616-9c8b-4d87-821c-2f00975a5b68",
   "metadata": {},
   "source": [
    "Ex-23"
   ]
  },
  {
   "cell_type": "code",
   "execution_count": 67,
   "id": "a05207af-065d-4bd5-8ef1-432b2fea7fed",
   "metadata": {},
   "outputs": [
    {
     "name": "stdout",
     "output_type": "stream",
     "text": [
      "True\n"
     ]
    }
   ],
   "source": [
    "x = [\"apple\", \"banana\"]\n",
    "\n",
    "print(\"banana\" in x)"
   ]
  },
  {
   "cell_type": "markdown",
   "id": "8df1a8f3-1680-4ade-a943-cdadf6feb9b4",
   "metadata": {},
   "source": [
    "Ex-24"
   ]
  },
  {
   "cell_type": "code",
   "execution_count": 73,
   "id": "15751b3b-79d6-4ebd-ae2a-5f7c958b3e46",
   "metadata": {},
   "outputs": [
    {
     "name": "stdout",
     "output_type": "stream",
     "text": [
      "0\n"
     ]
    }
   ],
   "source": [
    "print((6 + 3) - (6 + 3))"
   ]
  },
  {
   "cell_type": "markdown",
   "id": "2199181c-7e00-4468-9668-195627fb0282",
   "metadata": {},
   "source": [
    "Ex-25"
   ]
  },
  {
   "cell_type": "code",
   "execution_count": 76,
   "id": "7f19e7b2-2246-4dd6-88b1-9bd75ab6e32b",
   "metadata": {},
   "outputs": [
    {
     "name": "stdout",
     "output_type": "stream",
     "text": [
      "115\n"
     ]
    }
   ],
   "source": [
    "print(100 + 5 * 3)"
   ]
  },
  {
   "cell_type": "markdown",
   "id": "45b2517b-f867-4dda-b99a-ce5930f5f0bd",
   "metadata": {},
   "source": [
    "Ex-26"
   ]
  },
  {
   "cell_type": "code",
   "execution_count": 81,
   "id": "2cea9eaf-7c23-4fd3-b791-20c624355413",
   "metadata": {},
   "outputs": [
    {
     "name": "stdout",
     "output_type": "stream",
     "text": [
      "['apple', 'banana', 'cherry']\n"
     ]
    }
   ],
   "source": [
    "thislist = [\"apple\", \"banana\", \"cherry\"]\n",
    "print(thislist)"
   ]
  },
  {
   "cell_type": "markdown",
   "id": "76e006da-c40b-49ae-b443-cb2ae6f1b7cf",
   "metadata": {},
   "source": [
    "Ex-27"
   ]
  },
  {
   "cell_type": "code",
   "execution_count": 86,
   "id": "ffe8922a-0337-4427-b8d1-c5fcc740ffd8",
   "metadata": {},
   "outputs": [
    {
     "name": "stdout",
     "output_type": "stream",
     "text": [
      "3\n"
     ]
    }
   ],
   "source": [
    "thislist = [\"apple\", \"banana\", \"cherry\"]\n",
    "print(len(thislist))"
   ]
  },
  {
   "cell_type": "markdown",
   "id": "3422ac68-431d-4997-adde-000be1f0e130",
   "metadata": {},
   "source": [
    "Ex-28"
   ]
  },
  {
   "cell_type": "code",
   "execution_count": 91,
   "id": "db241849-3af1-4663-b11f-5c092e380ffd",
   "metadata": {},
   "outputs": [
    {
     "name": "stdout",
     "output_type": "stream",
     "text": [
      "['abc', 34, True, 40, 'male']\n"
     ]
    }
   ],
   "source": [
    "list1 = [\"abc\", 34, True, 40, \"male\"]\n",
    "print(list1)"
   ]
  },
  {
   "cell_type": "markdown",
   "id": "566c464b-10b3-4b06-a3a3-15245b7814a2",
   "metadata": {},
   "source": [
    "Ex-29"
   ]
  },
  {
   "cell_type": "code",
   "execution_count": 94,
   "id": "9458211d-c0d7-432d-9a06-8575041aa4c4",
   "metadata": {},
   "outputs": [
    {
     "name": "stdout",
     "output_type": "stream",
     "text": [
      "<class 'list'>\n"
     ]
    }
   ],
   "source": [
    "mylist = [\"apple\", \"banana\", \"cherry\"]\n",
    "print(type(mylist))"
   ]
  },
  {
   "cell_type": "markdown",
   "id": "e01ec56b-c45c-43df-9f37-99f6a45d4d15",
   "metadata": {},
   "source": [
    "Ex-30"
   ]
  },
  {
   "cell_type": "code",
   "execution_count": 97,
   "id": "67dcdb45-90ef-41bc-9c60-1d3d0bc3c44d",
   "metadata": {},
   "outputs": [
    {
     "name": "stdout",
     "output_type": "stream",
     "text": [
      "banana\n"
     ]
    }
   ],
   "source": [
    "thislist = [\"apple\", \"banana\", \"cherry\"]\n",
    "print(thislist[1])"
   ]
  },
  {
   "cell_type": "markdown",
   "id": "95f03fa5-d325-4070-b381-342963aaae0b",
   "metadata": {},
   "source": [
    "Ex-31"
   ]
  },
  {
   "cell_type": "code",
   "execution_count": 100,
   "id": "c8bc36c6-9321-417d-b763-a664dff8c4eb",
   "metadata": {},
   "outputs": [
    {
     "name": "stdout",
     "output_type": "stream",
     "text": [
      "cherry\n"
     ]
    }
   ],
   "source": [
    "thislist = [\"apple\", \"banana\", \"cherry\"]\n",
    "print(thislist[-1])"
   ]
  },
  {
   "cell_type": "markdown",
   "id": "ca8a6628-b073-4b27-b404-f3d41c331a2b",
   "metadata": {},
   "source": [
    "Ex-32"
   ]
  },
  {
   "cell_type": "code",
   "execution_count": 105,
   "id": "a8e46c4e-1f43-4fa2-a1fe-f5ee58376a75",
   "metadata": {},
   "outputs": [
    {
     "name": "stdout",
     "output_type": "stream",
     "text": [
      "['cherry', 'orange', 'kiwi']\n"
     ]
    }
   ],
   "source": [
    "thislist = [\"apple\", \"banana\", \"cherry\", \"orange\", \"kiwi\", \"melon\", \"mango\"] ## 2.3.4 до 5\n",
    "print(thislist[2:5]) #5 not included"
   ]
  },
  {
   "cell_type": "markdown",
   "id": "5a309b5c-e4d3-46fc-ba8d-8d382960ce63",
   "metadata": {},
   "source": [
    "Ex-33"
   ]
  },
  {
   "cell_type": "code",
   "execution_count": 109,
   "id": "86e9a61b-e8c1-4edd-8d01-8536a1b76324",
   "metadata": {},
   "outputs": [
    {
     "name": "stdout",
     "output_type": "stream",
     "text": [
      "['cherry', 'orange', 'kiwi', 'melon', 'mango']\n"
     ]
    }
   ],
   "source": [
    "thislist = [\"apple\", \"banana\", \"cherry\", \"orange\", \"kiwi\", \"melon\", \"mango\"]\n",
    "print(thislist[2:]) #2 included"
   ]
  },
  {
   "cell_type": "markdown",
   "id": "cfa66522-40c6-4886-a35d-7201eb4ccb25",
   "metadata": {},
   "source": [
    "Ex-34"
   ]
  },
  {
   "cell_type": "code",
   "execution_count": 118,
   "id": "cad0d733-8566-4c3a-8292-f8acd3241d07",
   "metadata": {},
   "outputs": [
    {
     "name": "stdout",
     "output_type": "stream",
     "text": [
      "['orange', 'kiwi', 'melon']\n"
     ]
    }
   ],
   "source": [
    "thislist = [\"apple\", \"banana\", \"cherry\", \"orange\", \"kiwi\", \"melon\", \"mango\"]\n",
    "print(thislist[-4:-1]) #-1 not, but -4 included"
   ]
  },
  {
   "cell_type": "markdown",
   "id": "d64c835d-da93-4571-9ba0-bf3e45addd9b",
   "metadata": {},
   "source": [
    "Ex-35"
   ]
  },
  {
   "cell_type": "code",
   "execution_count": 121,
   "id": "1d85fab2-2399-439e-a533-cace49efa1d7",
   "metadata": {},
   "outputs": [
    {
     "name": "stdout",
     "output_type": "stream",
     "text": [
      "['apple', 'blackcurrant', 'cherry']\n"
     ]
    }
   ],
   "source": [
    "thislist = [\"apple\", \"banana\", \"cherry\"]\n",
    "thislist[1] = \"blackcurrant\"\n",
    "\n",
    "print(thislist)"
   ]
  },
  {
   "cell_type": "markdown",
   "id": "7b874a2a-eef4-4ddd-8cfa-60226df27121",
   "metadata": {},
   "source": [
    "Ex-36"
   ]
  },
  {
   "cell_type": "code",
   "execution_count": 124,
   "id": "68e21ca9-0f91-48fe-86dd-ebdcbedac364",
   "metadata": {},
   "outputs": [
    {
     "name": "stdout",
     "output_type": "stream",
     "text": [
      "['apple', 'blackcurrant', 'watermelon', 'cherry']\n"
     ]
    }
   ],
   "source": [
    "thislist = [\"apple\", \"banana\", \"cherry\"]\n",
    "\n",
    "thislist[1:2] = [\"blackcurrant\", \"watermelon\"]\n",
    "\n",
    "print(thislist)\n"
   ]
  },
  {
   "cell_type": "markdown",
   "id": "7bb77a31-0747-462a-ac41-f6fbf2fea99a",
   "metadata": {},
   "source": [
    "Ex-37"
   ]
  },
  {
   "cell_type": "code",
   "execution_count": 127,
   "id": "8bcfaa7f-d68d-49c1-9d9a-c21a596d59f9",
   "metadata": {},
   "outputs": [
    {
     "name": "stdout",
     "output_type": "stream",
     "text": [
      "['apple', 'watermelon']\n"
     ]
    }
   ],
   "source": [
    "thislist = [\"apple\", \"banana\", \"cherry\"]\n",
    "\n",
    "thislist[1:3] = [\"watermelon\"]\n",
    "\n",
    "print(thislist)"
   ]
  },
  {
   "cell_type": "markdown",
   "id": "3b8a2b68-3335-4c47-9452-330204b6d5b2",
   "metadata": {},
   "source": [
    "Ex-38"
   ]
  },
  {
   "cell_type": "code",
   "execution_count": 130,
   "id": "ffebd96a-2ab5-4df7-9587-48c74a2e8e74",
   "metadata": {},
   "outputs": [
    {
     "name": "stdout",
     "output_type": "stream",
     "text": [
      "['apple', 'banana', 'watermelon', 'cherry']\n"
     ]
    }
   ],
   "source": [
    "thislist = [\"apple\", \"banana\", \"cherry\"]\n",
    "thislist.insert(2, \"watermelon\")\n",
    "print(thislist)"
   ]
  },
  {
   "cell_type": "markdown",
   "id": "f120adb3-5030-4a24-a9d0-90c2ce9b9e92",
   "metadata": {},
   "source": [
    "Ex-39"
   ]
  },
  {
   "cell_type": "code",
   "execution_count": 203,
   "id": "b1534611-b626-4937-9e30-01bbd6dd2b7c",
   "metadata": {},
   "outputs": [
    {
     "name": "stdout",
     "output_type": "stream",
     "text": [
      "['apple', 'banana', 'cherry', 'orange']\n"
     ]
    }
   ],
   "source": [
    "thislist = [\"apple\", \"banana\", \"cherry\"]\n",
    "thislist.append(\"orange\") #append elements from another list to the current list\n",
    "print(thislist)"
   ]
  },
  {
   "cell_type": "markdown",
   "id": "380573ef-24b7-4177-8402-9971ea431359",
   "metadata": {},
   "source": [
    "Ex-40"
   ]
  },
  {
   "cell_type": "code",
   "execution_count": 138,
   "id": "fb27388e-7f1b-4575-b6d0-128a719f2bc3",
   "metadata": {},
   "outputs": [
    {
     "name": "stdout",
     "output_type": "stream",
     "text": [
      "['o', 'a', 'b', 'c']\n"
     ]
    }
   ],
   "source": [
    "list=[\"a\", \"b\", \"c\"]\n",
    "list.insert(0,\"o\")\n",
    "print(list)"
   ]
  },
  {
   "cell_type": "markdown",
   "id": "83a026d3-0712-4cf5-9645-46436ef6b247",
   "metadata": {},
   "source": [
    "Ex-41"
   ]
  },
  {
   "cell_type": "code",
   "execution_count": 141,
   "id": "b9757c62-239a-401f-be38-b31523f40d56",
   "metadata": {},
   "outputs": [
    {
     "name": "stdout",
     "output_type": "stream",
     "text": [
      "['a', 'b', 'c', 'd', 'e', 'f']\n"
     ]
    }
   ],
   "source": [
    "zhan=[\"a\",\"b\",\"c\"]\n",
    "asyl=[\"d\",\"e\",\"f\"]\n",
    "zhan.extend(asyl)\n",
    "print(zhan) #append elements from another list to the current list"
   ]
  },
  {
   "cell_type": "markdown",
   "id": "8e16959c-112c-44b3-b71c-eecefe8017a0",
   "metadata": {},
   "source": [
    "Ex-42"
   ]
  },
  {
   "cell_type": "code",
   "execution_count": 145,
   "id": "1ac046bf-1dd9-49a3-9d11-8a1e8dde82e7",
   "metadata": {},
   "outputs": [
    {
     "name": "stdout",
     "output_type": "stream",
     "text": [
      "['apple', 'cherry']\n"
     ]
    }
   ],
   "source": [
    "list = [\"apple\", \"banana\", \"cherry\"]\n",
    "list.remove(\"banana\")\n",
    "print(list)"
   ]
  },
  {
   "cell_type": "markdown",
   "id": "42befdaa-3562-466d-9e16-51789e0ea1a2",
   "metadata": {},
   "source": [
    "Ex-43"
   ]
  },
  {
   "cell_type": "code",
   "execution_count": 148,
   "id": "7b8f1852-5b7e-459d-8d2b-09d1f195f53f",
   "metadata": {},
   "outputs": [
    {
     "name": "stdout",
     "output_type": "stream",
     "text": [
      "['apple', 'cherry', 'banana', 'kiwi']\n"
     ]
    }
   ],
   "source": [
    "list = [\"apple\", \"banana\", \"cherry\", \"banana\", \"kiwi\"]\n",
    "list.remove(\"banana\")\n",
    "print(list)\n"
   ]
  },
  {
   "cell_type": "markdown",
   "id": "ba90c523-5520-4c4c-bcee-7ee080bee56d",
   "metadata": {},
   "source": [
    "Ex-44"
   ]
  },
  {
   "cell_type": "code",
   "execution_count": 156,
   "id": "20ca7c3b-0f21-4481-a7f8-bf8ecd2667bb",
   "metadata": {},
   "outputs": [
    {
     "name": "stdout",
     "output_type": "stream",
     "text": [
      "['banana', 'cherry']\n"
     ]
    }
   ],
   "source": [
    "list = [\"apple\", \"banana\", \"cherry\"]\n",
    "list.pop(0)\n",
    "print(list)"
   ]
  },
  {
   "cell_type": "markdown",
   "id": "95aa8cbd-e3f1-4db8-88ac-9255285448a5",
   "metadata": {},
   "source": [
    "Ex-45"
   ]
  },
  {
   "cell_type": "code",
   "execution_count": 154,
   "id": "f861a62a-dedd-435b-b857-a8bbaffb8c9d",
   "metadata": {},
   "outputs": [
    {
     "name": "stdout",
     "output_type": "stream",
     "text": [
      "['apple', 'banana']\n"
     ]
    }
   ],
   "source": [
    "list = [\"apple\", \"banana\", \"che\"]\n",
    "list.pop() #removing last item\n",
    "print(list)"
   ]
  },
  {
   "cell_type": "markdown",
   "id": "85fb4e03-75af-4ada-99c6-b8f19814b0fc",
   "metadata": {},
   "source": [
    "Ex-46"
   ]
  },
  {
   "cell_type": "code",
   "execution_count": 159,
   "id": "32814f6b-9682-41c2-a798-83d5724970b8",
   "metadata": {},
   "outputs": [
    {
     "name": "stdout",
     "output_type": "stream",
     "text": [
      "['banana', 'cherry']\n"
     ]
    }
   ],
   "source": [
    "list = [\"apple\", \"banana\", \"cherry\"]\n",
    "del list[0]\n",
    "print(list)"
   ]
  },
  {
   "cell_type": "markdown",
   "id": "e02f2905-de33-4a6c-87cd-073c902eb09d",
   "metadata": {},
   "source": [
    "Ex-47"
   ]
  },
  {
   "cell_type": "code",
   "execution_count": 170,
   "id": "e9b24961-619d-43c5-b382-b6c9a448b388",
   "metadata": {},
   "outputs": [],
   "source": [
    "list = [\"apple\", \"banana\", \"cherry\"]\n",
    "del list #delete the list completely."
   ]
  },
  {
   "cell_type": "markdown",
   "id": "9fac04fe-58c4-4344-9b73-e5e1651ad9bd",
   "metadata": {},
   "source": [
    "Ex-48"
   ]
  },
  {
   "cell_type": "code",
   "execution_count": 174,
   "id": "e5c2fe18-ba4e-41d4-b207-632f42ea9fdc",
   "metadata": {},
   "outputs": [
    {
     "name": "stdout",
     "output_type": "stream",
     "text": [
      "[]\n"
     ]
    }
   ],
   "source": [
    "list = [\"apple\", \"banana\", \"cherry\"]\n",
    "list.clear()\n",
    "print(list) #clear() method empties the list."
   ]
  },
  {
   "cell_type": "markdown",
   "id": "312cfa96-fb1d-4541-8126-f43dac949249",
   "metadata": {},
   "source": [
    "Ex-49"
   ]
  },
  {
   "cell_type": "markdown",
   "id": "eaa26449-6efa-4581-9dc2-059f5b981e34",
   "metadata": {},
   "source": [
    "Ex-50"
   ]
  },
  {
   "cell_type": "code",
   "execution_count": 182,
   "id": "ac36ab90-dfee-42aa-ba77-e1f1189c49b9",
   "metadata": {},
   "outputs": [
    {
     "name": "stdout",
     "output_type": "stream",
     "text": [
      "zh\n",
      "as\n",
      "am\n"
     ]
    }
   ],
   "source": [
    "list=[\"zh\",\"as\",\"am\"]\n",
    "for x in list:\n",
    "  print(x)"
   ]
  },
  {
   "cell_type": "markdown",
   "id": "89d3e8c3-e087-4938-b630-ba4ea9da68c6",
   "metadata": {},
   "source": [
    "Ex-51"
   ]
  },
  {
   "cell_type": "code",
   "execution_count": 189,
   "id": "b865154c-0b56-4eb6-858e-029332eedc7c",
   "metadata": {},
   "outputs": [
    {
     "name": "stdout",
     "output_type": "stream",
     "text": [
      "apple\n",
      "banana\n",
      "cherry\n"
     ]
    }
   ],
   "source": [
    "thislist = [\"apple\", \"banana\", \"cherry\"]\n",
    "for i in range(len(thislist)):\n",
    "  print(thislist[i])\n"
   ]
  },
  {
   "cell_type": "markdown",
   "id": "603b28d5-ada7-4445-b441-8b3a4a5fb4fb",
   "metadata": {},
   "source": [
    "Ex-52"
   ]
  },
  {
   "cell_type": "code",
   "execution_count": 191,
   "id": "51eba581-0916-4f9e-bfd4-65b42bc2901b",
   "metadata": {},
   "outputs": [
    {
     "name": "stdout",
     "output_type": "stream",
     "text": [
      "a\n",
      "b\n",
      "c\n"
     ]
    }
   ],
   "source": [
    "list = [\"a\", \"b\", \"c\"]\n",
    "i = 0\n",
    "while i < len(list):\n",
    "  print(list[i])\n",
    "  i = i + 1"
   ]
  },
  {
   "cell_type": "markdown",
   "id": "0e824f0d-0ee4-4ed5-8fd7-41bba833309b",
   "metadata": {},
   "source": [
    "Ex-53"
   ]
  },
  {
   "cell_type": "code",
   "execution_count": 196,
   "id": "131b89c5-be92-41a9-9211-5d402b6dbcd0",
   "metadata": {},
   "outputs": [
    {
     "name": "stdout",
     "output_type": "stream",
     "text": [
      "a\n",
      "b\n",
      "c\n"
     ]
    },
    {
     "data": {
      "text/plain": [
       "[None, None, None]"
      ]
     },
     "execution_count": 196,
     "metadata": {},
     "output_type": "execute_result"
    }
   ],
   "source": [
    "list=[\"a\",\"b\",\"c\"]\n",
    "[print(x) for x in list]"
   ]
  },
  {
   "cell_type": "markdown",
   "id": "121a0084-27e7-41ce-876b-03c66bb0d8e7",
   "metadata": {},
   "source": [
    "Ex-54"
   ]
  },
  {
   "cell_type": "code",
   "execution_count": 199,
   "id": "7918f845-f5a0-4ca9-872f-46d28d0c24e4",
   "metadata": {},
   "outputs": [
    {
     "name": "stdout",
     "output_type": "stream",
     "text": [
      "['apple', 'banana', 'mango']\n"
     ]
    }
   ],
   "source": [
    "fruits = [\"apple\", \"banana\", \"cherry\", \"kiwi\", \"mango\"]\n",
    "newlist = []\n",
    "\n",
    "for x in fruits:\n",
    "  if \"a\" in x:\n",
    "    newlist.append(x)\n",
    "\n",
    "print(newlist)\n"
   ]
  },
  {
   "cell_type": "markdown",
   "id": "c2d33462-9973-4fec-a81a-96de6919f120",
   "metadata": {},
   "source": [
    "Ex-55"
   ]
  },
  {
   "cell_type": "code",
   "execution_count": 205,
   "id": "85704357-ae7a-415e-bea9-5a3deea89aae",
   "metadata": {},
   "outputs": [
    {
     "name": "stdout",
     "output_type": "stream",
     "text": [
      "['apple', 'banana', 'mango']\n"
     ]
    }
   ],
   "source": [
    "fruits = [\"apple\", \"banana\", \"cherry\", \"kiwi\", \"mango\"]\n",
    "\n",
    "newlist = [x for x in fruits if \"a\" in x]\n",
    "\n",
    "print(newlist)\n"
   ]
  },
  {
   "cell_type": "markdown",
   "id": "b21af363-830b-4dce-b8ca-85b62768248f",
   "metadata": {},
   "source": [
    "Ex-56"
   ]
  },
  {
   "cell_type": "code",
   "execution_count": 211,
   "id": "126bf2d4-8c3d-4f63-ab93-02189f419842",
   "metadata": {},
   "outputs": [
    {
     "name": "stdout",
     "output_type": "stream",
     "text": [
      "[0, 1, 2, 3, 4, 5, 6, 7]\n"
     ]
    }
   ],
   "source": [
    "newlist = [x for x in range(8)]\n",
    "\n",
    "print(newlist)"
   ]
  },
  {
   "cell_type": "markdown",
   "id": "ea58dca5-616b-4e23-88bd-1b5188c5662f",
   "metadata": {},
   "source": [
    "Ex-57"
   ]
  },
  {
   "cell_type": "code",
   "execution_count": 217,
   "id": "c5d23031-5245-4326-9a80-996966f0fa68",
   "metadata": {},
   "outputs": [
    {
     "name": "stdout",
     "output_type": "stream",
     "text": [
      "[0, 1, 2, 3, 4]\n"
     ]
    }
   ],
   "source": [
    "list = [x for x in range(10) if x < 5]\n",
    "print(list)"
   ]
  },
  {
   "cell_type": "markdown",
   "id": "0c6d2474-ce90-454a-b0ab-bdd08afa77ba",
   "metadata": {},
   "source": [
    "Ex-58"
   ]
  },
  {
   "cell_type": "code",
   "execution_count": 220,
   "id": "6ea051eb-11f2-409e-a9b4-ee131a4c0a7c",
   "metadata": {},
   "outputs": [
    {
     "name": "stdout",
     "output_type": "stream",
     "text": [
      "['APPLE', 'BANANA', 'CHERRY', 'KIWI', 'MANGO']\n"
     ]
    }
   ],
   "source": [
    "fruits = [\"apple\", \"banana\", \"cherry\", \"kiwi\", \"mango\"]\n",
    "\n",
    "newlist = [x.upper() for x in fruits]\n",
    "\n",
    "print(newlist)"
   ]
  },
  {
   "cell_type": "markdown",
   "id": "a7efee35-0c3d-43fe-a6aa-c81887e963e3",
   "metadata": {},
   "source": [
    "Ex-59"
   ]
  },
  {
   "cell_type": "code",
   "execution_count": 223,
   "id": "115dddc3-3873-48d0-85e3-1d6578aee3b8",
   "metadata": {},
   "outputs": [
    {
     "name": "stdout",
     "output_type": "stream",
     "text": [
      "['hello', 'hello', 'hello', 'hello', 'hello']\n"
     ]
    }
   ],
   "source": [
    "fruits = [\"apple\", \"banana\", \"cherry\", \"kiwi\", \"mango\"]\n",
    "\n",
    "newlist = ['hello' for x in fruits]\n",
    "\n",
    "print(newlist)"
   ]
  },
  {
   "cell_type": "markdown",
   "id": "98f0976f-ff36-43ac-b3e1-87fa90b4285c",
   "metadata": {},
   "source": [
    "Ex-60"
   ]
  },
  {
   "cell_type": "code",
   "execution_count": 230,
   "id": "24951770-f152-4104-9a8d-9e11fc8e9794",
   "metadata": {},
   "outputs": [
    {
     "name": "stdout",
     "output_type": "stream",
     "text": [
      "[23, 50, 65, 82, 100]\n"
     ]
    }
   ],
   "source": [
    "list = [100, 50, 65, 82, 23]\n",
    "list.sort()\n",
    "print(list)\n"
   ]
  },
  {
   "cell_type": "markdown",
   "id": "a3e20e84-7f71-425d-bc48-0aa25b7f5b21",
   "metadata": {},
   "source": [
    "Ex-61"
   ]
  },
  {
   "cell_type": "code",
   "execution_count": 232,
   "id": "2181f8f2-9ff7-4d68-bf40-f7f6b164dd92",
   "metadata": {},
   "outputs": [
    {
     "name": "stdout",
     "output_type": "stream",
     "text": [
      "['pineapple', 'orange', 'mango', 'kiwi', 'banana']\n"
     ]
    }
   ],
   "source": [
    "thislist = [\"orange\", \"mango\", \"kiwi\", \"pineapple\", \"banana\"]\n",
    "thislist.sort(reverse = True)\n",
    "print(thislist)"
   ]
  },
  {
   "cell_type": "markdown",
   "id": "56b174db-bb7e-4e16-bb26-54789de25400",
   "metadata": {},
   "source": [
    "Ex-62"
   ]
  },
  {
   "cell_type": "code",
   "execution_count": 235,
   "id": "20e4ab7e-0c83-42df-a550-1626f80b8880",
   "metadata": {},
   "outputs": [
    {
     "name": "stdout",
     "output_type": "stream",
     "text": [
      "[100, 82, 65, 50, 23]\n"
     ]
    }
   ],
   "source": [
    "thislist = [100, 50, 65, 82, 23]\n",
    "thislist.sort(reverse = True)\n",
    "print(thislist)"
   ]
  },
  {
   "cell_type": "markdown",
   "id": "c506785a-eb87-44fb-9f7d-490e17bedfee",
   "metadata": {},
   "source": [
    "Ex-63"
   ]
  },
  {
   "cell_type": "code",
   "execution_count": 238,
   "id": "600b3e0e-9ee1-4070-a864-3e99ed717465",
   "metadata": {},
   "outputs": [
    {
     "name": "stdout",
     "output_type": "stream",
     "text": [
      "['banana', 'cherry', 'Kiwi', 'Orange']\n"
     ]
    }
   ],
   "source": [
    "thislist = [\"banana\", \"Orange\", \"Kiwi\", \"cherry\"]\n",
    "thislist.sort(key = str.lower)\n",
    "print(thislist)"
   ]
  },
  {
   "cell_type": "markdown",
   "id": "83c3648a-b432-40b3-b4ee-83e4dec41f21",
   "metadata": {},
   "source": [
    "Ex-64"
   ]
  },
  {
   "cell_type": "code",
   "execution_count": 241,
   "id": "9bbc337a-4be1-4a69-98eb-ba473139e4f7",
   "metadata": {},
   "outputs": [
    {
     "name": "stdout",
     "output_type": "stream",
     "text": [
      "[50, 65, 23, 82, 100]\n"
     ]
    }
   ],
   "source": [
    "def myfunc(n):\n",
    "  return abs(n - 50)\n",
    "\n",
    "thislist = [100, 50, 65, 82, 23]\n",
    "thislist.sort(key = myfunc)\n",
    "print(thislist)"
   ]
  },
  {
   "cell_type": "markdown",
   "id": "96362d3b-33b2-4672-a6a9-129737732fee",
   "metadata": {},
   "source": [
    "Ex-65"
   ]
  },
  {
   "cell_type": "code",
   "execution_count": 244,
   "id": "c5396f8a-9647-4261-ab52-6af36dfb9ce8",
   "metadata": {},
   "outputs": [
    {
     "name": "stdout",
     "output_type": "stream",
     "text": [
      "['cherry', 'Kiwi', 'Orange', 'banana']\n"
     ]
    }
   ],
   "source": [
    "thislist = [\"banana\", \"Orange\", \"Kiwi\", \"cherry\"]\n",
    "thislist.reverse()\n",
    "print(thislist)"
   ]
  },
  {
   "cell_type": "markdown",
   "id": "d219672a-c4e1-4f37-858d-a707a49afc65",
   "metadata": {},
   "source": [
    "Ex-66"
   ]
  },
  {
   "cell_type": "code",
   "execution_count": 247,
   "id": "1abc8eab-5b2a-4bd1-9a73-bf22735be434",
   "metadata": {},
   "outputs": [
    {
     "name": "stdout",
     "output_type": "stream",
     "text": [
      "<class 'tuple'>\n",
      "<class 'str'>\n"
     ]
    }
   ],
   "source": [
    "thistuple = (\"apple\",)\n",
    "print(type(thistuple))\n",
    "\n",
    "#NOT a tuple\n",
    "thistuple = (\"apple\")\n",
    "print(type(thistuple))\n"
   ]
  },
  {
   "cell_type": "markdown",
   "id": "2b8dfff7-2144-41a0-a56c-f7f5759697ad",
   "metadata": {},
   "source": [
    "Ex-67"
   ]
  },
  {
   "cell_type": "code",
   "execution_count": 256,
   "id": "37831649-3638-49a9-8683-48e2f59f2bfd",
   "metadata": {},
   "outputs": [
    {
     "name": "stdout",
     "output_type": "stream",
     "text": [
      "Ford\n"
     ]
    }
   ],
   "source": [
    "thisdict = {\n",
    "  \"brand\": \"Ford\",\n",
    "  \"model\": \"Mustang\",\n",
    "  \"year\": 1964\n",
    "}\n",
    "print(thisdict[\"brand\"])"
   ]
  },
  {
   "cell_type": "markdown",
   "id": "2a66c12f-cc29-4fae-a34a-f779f459b573",
   "metadata": {},
   "source": [
    "Ex-68"
   ]
  },
  {
   "cell_type": "code",
   "execution_count": 259,
   "id": "cdd764d3-297c-440b-9f5b-dff63931125d",
   "metadata": {},
   "outputs": [
    {
     "name": "stdout",
     "output_type": "stream",
     "text": [
      "{'brand': 'Ford', 'model': 'Mustang', 'year': 2020}\n"
     ]
    }
   ],
   "source": [
    "thisdict = {\n",
    "  \"brand\": \"Ford\",\n",
    "  \"model\": \"Mustang\",\n",
    "  \"year\": 1964,\n",
    "  \"year\": 2020\n",
    "}\n",
    "print(thisdict)"
   ]
  },
  {
   "cell_type": "markdown",
   "id": "8b72fd06-f35d-496a-96b1-becc97978939",
   "metadata": {},
   "source": [
    "Ex-69"
   ]
  },
  {
   "cell_type": "code",
   "execution_count": 262,
   "id": "4a7873df-9e07-4273-881a-c607635fe165",
   "metadata": {},
   "outputs": [
    {
     "name": "stdout",
     "output_type": "stream",
     "text": [
      "a and b are equal\n"
     ]
    }
   ],
   "source": [
    "a = 33\n",
    "b = 33\n",
    "if b > a:\n",
    "  print(\"b is greater than a\")\n",
    "elif a == b:\n",
    "  print(\"a and b are equal\")"
   ]
  },
  {
   "cell_type": "markdown",
   "id": "7213e00e-adda-46f2-a52f-07f1f54ae06a",
   "metadata": {},
   "source": [
    "Ex-70"
   ]
  },
  {
   "cell_type": "code",
   "execution_count": 266,
   "id": "04d17243-5a16-49e7-939c-6f385f8bd15e",
   "metadata": {},
   "outputs": [
    {
     "name": "stdout",
     "output_type": "stream",
     "text": [
      "a is greater than b\n"
     ]
    }
   ],
   "source": [
    "a = 200\n",
    "b = 33\n",
    "if b > a:\n",
    "  print(\"b is greater than a\")\n",
    "elif a == b:\n",
    "  print(\"a and b are equal\")\n",
    "else:\n",
    "  print(\"a is greater than b\")"
   ]
  },
  {
   "cell_type": "markdown",
   "id": "d14d32a9-b6e6-41ab-9fe8-1a6ca5378a9d",
   "metadata": {},
   "source": [
    "Ex-71"
   ]
  },
  {
   "cell_type": "code",
   "execution_count": 270,
   "id": "ed75636c-43e1-478c-beab-6a37d91a95b3",
   "metadata": {},
   "outputs": [
    {
     "name": "stdout",
     "output_type": "stream",
     "text": [
      "=\n"
     ]
    }
   ],
   "source": [
    "a = 330\n",
    "b = 330\n",
    "print(\"A\") if a > b else print(\"=\") if a == b else print(\"B\")"
   ]
  },
  {
   "cell_type": "markdown",
   "id": "a24ba27f-dc0d-4b14-8f2a-5b3e1c3b8410",
   "metadata": {},
   "source": [
    "Ex-72"
   ]
  },
  {
   "cell_type": "code",
   "execution_count": 273,
   "id": "eeb21ef7-22db-48cd-a02e-6127253ce484",
   "metadata": {},
   "outputs": [
    {
     "name": "stdout",
     "output_type": "stream",
     "text": [
      "a is NOT greater than b\n"
     ]
    }
   ],
   "source": [
    "a = 33\n",
    "b = 200\n",
    "if not a > b:\n",
    "  print(\"a is NOT greater than b\")"
   ]
  },
  {
   "cell_type": "markdown",
   "id": "d1bf40be-6756-44da-a82a-13f8b526bee8",
   "metadata": {},
   "source": [
    "Ex-73"
   ]
  },
  {
   "cell_type": "code",
   "execution_count": 276,
   "id": "135f21a7-e999-4ba5-a42d-52532e31ec6c",
   "metadata": {},
   "outputs": [
    {
     "name": "stdout",
     "output_type": "stream",
     "text": [
      "1\n",
      "2\n",
      "3\n"
     ]
    }
   ],
   "source": [
    "i = 1\n",
    "while i < 6:\n",
    "  print(i)\n",
    "  if i == 3:\n",
    "    break\n",
    "  i += 1"
   ]
  },
  {
   "cell_type": "markdown",
   "id": "caa6d31e-257d-4b7b-b86c-5d79aa25872b",
   "metadata": {},
   "source": [
    "Ex-74"
   ]
  },
  {
   "cell_type": "code",
   "execution_count": 280,
   "id": "db602af2-34c2-4252-bc68-905f665d2fe8",
   "metadata": {},
   "outputs": [
    {
     "name": "stdout",
     "output_type": "stream",
     "text": [
      "1\n",
      "2\n",
      "4\n",
      "5\n",
      "6\n"
     ]
    }
   ],
   "source": [
    "i = 0\n",
    "while i < 6:\n",
    "  i += 1\n",
    "  if i == 3:\n",
    "    continue\n",
    "  print(i)"
   ]
  },
  {
   "cell_type": "markdown",
   "id": "595496c7-08bf-4e75-9993-4cb27d15634f",
   "metadata": {},
   "source": [
    "Ex-75"
   ]
  },
  {
   "cell_type": "code",
   "execution_count": 283,
   "id": "e9b54484-dbf3-43b7-b1e1-c04b4cc4ed06",
   "metadata": {},
   "outputs": [
    {
     "name": "stdout",
     "output_type": "stream",
     "text": [
      "1\n",
      "2\n",
      "3\n",
      "4\n",
      "5\n",
      "i is no longer less than 6\n"
     ]
    }
   ],
   "source": [
    "i = 1\n",
    "while i < 6:\n",
    "  print(i)\n",
    "  i += 1\n",
    "else:\n",
    "  print(\"i is no longer less than 6\")"
   ]
  },
  {
   "cell_type": "markdown",
   "id": "f56c139c-2f50-4e3f-95a4-5087cc1e80ff",
   "metadata": {},
   "source": [
    "Ex-76"
   ]
  },
  {
   "cell_type": "code",
   "execution_count": 286,
   "id": "6a734d98-17d5-4e63-bd7a-4dc32fc73d73",
   "metadata": {},
   "outputs": [
    {
     "name": "stdout",
     "output_type": "stream",
     "text": [
      "apple\n",
      "banana\n"
     ]
    }
   ],
   "source": [
    "fruits = [\"apple\", \"banana\", \"cherry\"]\n",
    "for x in fruits:\n",
    "  print(x)\n",
    "  if x == \"banana\":\n",
    "    break"
   ]
  },
  {
   "cell_type": "markdown",
   "id": "d7f5d2b4-1bfa-4155-a2c2-38336a64c3e4",
   "metadata": {},
   "source": [
    "Ex-77"
   ]
  },
  {
   "cell_type": "code",
   "execution_count": 289,
   "id": "0f0fad96-5f7e-4485-9de0-26aa2eaad1da",
   "metadata": {},
   "outputs": [
    {
     "name": "stdout",
     "output_type": "stream",
     "text": [
      "apple\n"
     ]
    }
   ],
   "source": [
    "fruits = [\"apple\", \"banana\", \"cherry\"]\n",
    "for x in fruits:\n",
    "  if x == \"banana\":\n",
    "    break\n",
    "  print(x) \n"
   ]
  },
  {
   "cell_type": "markdown",
   "id": "c5d72626-667d-459c-8048-0c11eeb857a1",
   "metadata": {},
   "source": [
    "Ex-78"
   ]
  },
  {
   "cell_type": "code",
   "execution_count": 292,
   "id": "0de7e7c4-7648-4dde-a2b8-481dd4e96e39",
   "metadata": {},
   "outputs": [
    {
     "name": "stdout",
     "output_type": "stream",
     "text": [
      "2\n",
      "5\n",
      "8\n",
      "11\n",
      "14\n",
      "17\n",
      "20\n",
      "23\n",
      "26\n",
      "29\n"
     ]
    }
   ],
   "source": [
    "for x in range(2, 30, 3):\n",
    "  print(x)"
   ]
  },
  {
   "cell_type": "markdown",
   "id": "587f7a63-ab7b-40c9-a178-3e736d20c82f",
   "metadata": {},
   "source": [
    "Ex-79"
   ]
  },
  {
   "cell_type": "code",
   "execution_count": 295,
   "id": "9155a63b-a654-41f4-b500-7148052c36c4",
   "metadata": {},
   "outputs": [
    {
     "name": "stdout",
     "output_type": "stream",
     "text": [
      "0\n",
      "1\n",
      "2\n"
     ]
    }
   ],
   "source": [
    "for x in range(6):\n",
    "  if x == 3: break\n",
    "  print(x)\n",
    "else:\n",
    "  print(\"Finally finished!\")"
   ]
  },
  {
   "cell_type": "markdown",
   "id": "8849d38f-a89e-45f7-9484-a90df4b9ffa0",
   "metadata": {},
   "source": [
    "Ex-80"
   ]
  },
  {
   "cell_type": "code",
   "execution_count": 299,
   "id": "8100ad53-d99e-405b-ac7a-ca8be429fd50",
   "metadata": {},
   "outputs": [
    {
     "name": "stdout",
     "output_type": "stream",
     "text": [
      "red apple\n",
      "red banana\n",
      "red cherry\n",
      "big apple\n",
      "big banana\n",
      "big cherry\n",
      "tasty apple\n",
      "tasty banana\n",
      "tasty cherry\n"
     ]
    }
   ],
   "source": [
    "adj = [\"red\", \"big\", \"tasty\"]\n",
    "fruits = [\"apple\", \"banana\", \"cherry\"]\n",
    "\n",
    "for x in adj:\n",
    "  for y in fruits:\n",
    "    print(x, y)\n"
   ]
  },
  {
   "cell_type": "markdown",
   "id": "d01c4203-f626-47a4-8efa-93cf7365f184",
   "metadata": {},
   "source": [
    "Ex-81"
   ]
  },
  {
   "cell_type": "code",
   "execution_count": 302,
   "id": "6659eefd-5800-49af-8798-1de0fc95c552",
   "metadata": {},
   "outputs": [],
   "source": [
    "for x in [0, 1, 2]:\n",
    "  pass"
   ]
  },
  {
   "cell_type": "code",
   "execution_count": null,
   "id": "be32e78e-26d9-4be6-8c17-c5de421fc104",
   "metadata": {},
   "outputs": [],
   "source": []
  }
 ],
 "metadata": {
  "kernelspec": {
   "display_name": "Python [conda env:base] *",
   "language": "python",
   "name": "conda-base-py"
  },
  "language_info": {
   "codemirror_mode": {
    "name": "ipython",
    "version": 3
   },
   "file_extension": ".py",
   "mimetype": "text/x-python",
   "name": "python",
   "nbconvert_exporter": "python",
   "pygments_lexer": "ipython3",
   "version": "3.12.7"
  }
 },
 "nbformat": 4,
 "nbformat_minor": 5
}
