{
 "cells": [
  {
   "cell_type": "markdown",
   "id": "635d5f10-434f-4f82-bf20-7289034e0387",
   "metadata": {},
   "source": [
    "Example-1"
   ]
  },
  {
   "cell_type": "code",
   "execution_count": 9,
   "id": "fdac7350-9446-486f-8369-33bfa4e0b2f9",
   "metadata": {},
   "outputs": [
    {
     "name": "stdout",
     "output_type": "stream",
     "text": [
      "Hello, World!\n"
     ]
    }
   ],
   "source": [
    "print(\"Hello, World!\")"
   ]
  },
  {
   "cell_type": "markdown",
   "id": "8aa2cb0c-7e72-49c8-8e7e-ca38d1347d73",
   "metadata": {},
   "source": [
    "Example-2"
   ]
  },
  {
   "cell_type": "code",
   "execution_count": 12,
   "id": "321797c6-085a-44a0-9c43-3bf60c027cff",
   "metadata": {},
   "outputs": [
    {
     "name": "stdout",
     "output_type": "stream",
     "text": [
      "3.12.7 | packaged by Anaconda, Inc. | (main, Oct  4 2024, 13:17:27) [MSC v.1929 64 bit (AMD64)]\n"
     ]
    }
   ],
   "source": [
    "import sys\n",
    "print (sys.version)"
   ]
  },
  {
   "cell_type": "markdown",
   "id": "c1666a58-c0a9-4573-bfbe-f3db3f3c4bb0",
   "metadata": {},
   "source": [
    "Example-3"
   ]
  },
  {
   "cell_type": "code",
   "execution_count": 21,
   "id": "dc555540-167b-41e1-b5a2-5cbfb101c2b6",
   "metadata": {},
   "outputs": [
    {
     "name": "stdout",
     "output_type": "stream",
     "text": [
      "Five is greater than two!\n"
     ]
    }
   ],
   "source": [
    "if 5>2:\n",
    " print(\"Five is greater than two!\")"
   ]
  },
  {
   "cell_type": "markdown",
   "id": "1a3b190a-787f-4fbc-b632-ade18ec7d8a3",
   "metadata": {},
   "source": [
    "Example-4"
   ]
  },
  {
   "cell_type": "code",
   "execution_count": 24,
   "id": "f4f677c5-a266-4833-b938-3d5b0155b211",
   "metadata": {},
   "outputs": [
    {
     "name": "stdout",
     "output_type": "stream",
     "text": [
      "Five is greater than two!\n",
      "Five is greater than two!\n"
     ]
    }
   ],
   "source": [
    "if 5 > 2:\n",
    "    print(\"Five is greater than two!\")\n",
    "if 5 > 2:\n",
    "    print (\"Five is greater than two!\")"
   ]
  },
  {
   "cell_type": "markdown",
   "id": "f1b05419-9a1c-459d-aa94-6cb441d3d37b",
   "metadata": {},
   "source": [
    "Example-5"
   ]
  },
  {
   "cell_type": "code",
   "execution_count": 27,
   "id": "12a4578f-9994-4454-88be-24ae82284303",
   "metadata": {},
   "outputs": [
    {
     "name": "stdout",
     "output_type": "stream",
     "text": [
      "5\n",
      "Hello World\n"
     ]
    }
   ],
   "source": [
    "x = 5\n",
    "y='Hello World'\n",
    "print(x)\n",
    "print(y)"
   ]
  },
  {
   "cell_type": "markdown",
   "id": "16d5b7b5-8b7a-4465-ba71-8b8339874a74",
   "metadata": {},
   "source": [
    "Example-6"
   ]
  },
  {
   "cell_type": "code",
   "execution_count": 30,
   "id": "3a4ecf5c-ac4d-4ae9-9dfe-92f3da97265a",
   "metadata": {},
   "outputs": [
    {
     "name": "stdout",
     "output_type": "stream",
     "text": [
      "Hello, World!\n"
     ]
    }
   ],
   "source": [
    "#This is a comment.\n",
    "print(\"Hello, World!\")"
   ]
  },
  {
   "cell_type": "markdown",
   "id": "e2f226b3-7533-4eed-9d93-3b735ffb37c7",
   "metadata": {},
   "source": [
    "Example-7"
   ]
  },
  {
   "cell_type": "code",
   "execution_count": 33,
   "id": "106836ec-1729-43fd-9079-da67e91060c5",
   "metadata": {},
   "outputs": [
    {
     "name": "stdout",
     "output_type": "stream",
     "text": [
      "Hello, World!\n"
     ]
    }
   ],
   "source": [
    "print(\"Hello, World!\") #This is a comment."
   ]
  },
  {
   "cell_type": "markdown",
   "id": "399c2cba-57e1-4abc-bdb5-8b187a190688",
   "metadata": {},
   "source": [
    "Example-8"
   ]
  },
  {
   "cell_type": "code",
   "execution_count": 36,
   "id": "a562fb9b-c1b1-4d14-b6fb-91e99cecdfb7",
   "metadata": {},
   "outputs": [
    {
     "name": "stdout",
     "output_type": "stream",
     "text": [
      "Hello, World!\n"
     ]
    }
   ],
   "source": [
    "#This is a comment\n",
    "#written in\n",
    "#more than just one line\n",
    "print(\"Hello, World!\")"
   ]
  },
  {
   "cell_type": "markdown",
   "id": "34572faf-a162-4b0c-b716-22466927dd70",
   "metadata": {},
   "source": [
    "Example-9"
   ]
  },
  {
   "cell_type": "code",
   "execution_count": 39,
   "id": "9ea0f890-f1b6-48f5-956d-b5cfadfb6486",
   "metadata": {},
   "outputs": [
    {
     "name": "stdout",
     "output_type": "stream",
     "text": [
      "Hello, World!\n"
     ]
    }
   ],
   "source": [
    "\"\"\"\n",
    "This is a comment\n",
    "written in\n",
    "more than just one line yeeee\n",
    "\"\"\"\n",
    "print(\"Hello, World!\")\n"
   ]
  },
  {
   "cell_type": "markdown",
   "id": "3ae30367-1fca-4ca2-9061-88a368ef3964",
   "metadata": {},
   "source": [
    "Example-10"
   ]
  },
  {
   "cell_type": "code",
   "execution_count": 42,
   "id": "4f60f839-28cd-4c78-9bbb-6324e027f4cd",
   "metadata": {},
   "outputs": [
    {
     "name": "stdout",
     "output_type": "stream",
     "text": [
      "5\n",
      "John\n"
     ]
    }
   ],
   "source": [
    "x=5\n",
    "y=\"John\"\n",
    "print(x)\n",
    "print(y)"
   ]
  },
  {
   "cell_type": "markdown",
   "id": "f20fb917-f752-47a7-8fe6-34a333882f96",
   "metadata": {},
   "source": [
    "Example-11"
   ]
  },
  {
   "cell_type": "code",
   "execution_count": 45,
   "id": "d1cae57b-8460-4a5e-9436-2cf5d0fb455d",
   "metadata": {},
   "outputs": [
    {
     "name": "stdout",
     "output_type": "stream",
     "text": [
      "Sally\n"
     ]
    }
   ],
   "source": [
    "x=44\n",
    "x=\"Sally\"\n",
    "print(x)"
   ]
  },
  {
   "cell_type": "markdown",
   "id": "345903b6-ea7d-4e35-b200-fa6763591e92",
   "metadata": {},
   "source": [
    "Example-12"
   ]
  },
  {
   "cell_type": "code",
   "execution_count": 48,
   "id": "9343542b-31d3-4669-b91d-a2053f52800d",
   "metadata": {},
   "outputs": [
    {
     "name": "stdout",
     "output_type": "stream",
     "text": [
      "3\n",
      "3\n",
      "3.0\n"
     ]
    }
   ],
   "source": [
    "x=str(3)\n",
    "y=int(3)\n",
    "z=float(3)\n",
    "print(x)\n",
    "print(y)\n",
    "print(z)"
   ]
  },
  {
   "cell_type": "markdown",
   "id": "14174108-8feb-4ed5-b31f-e96fe1119fa3",
   "metadata": {},
   "source": [
    "Example-13"
   ]
  },
  {
   "cell_type": "code",
   "execution_count": 55,
   "id": "018cd54d-ddcb-4562-ace5-e23f4fc99b77",
   "metadata": {},
   "outputs": [
    {
     "name": "stdout",
     "output_type": "stream",
     "text": [
      "<class 'int'>\n",
      "<class 'str'>\n"
     ]
    }
   ],
   "source": [
    "x = 5\n",
    "y = \"John\"\n",
    "print(type(x))\n",
    "print(type(y))"
   ]
  },
  {
   "cell_type": "markdown",
   "id": "6ccfeabb-5031-4d6c-b3df-e1a4e5204963",
   "metadata": {},
   "source": [
    "Example-14"
   ]
  },
  {
   "cell_type": "code",
   "execution_count": 58,
   "id": "f6cebd1b-1494-40f2-a1ba-fa410a37c7f7",
   "metadata": {},
   "outputs": [
    {
     "name": "stdout",
     "output_type": "stream",
     "text": [
      "John\n",
      "John\n"
     ]
    }
   ],
   "source": [
    "x = \"John\"\n",
    "print(x)\n",
    "#double quotes are the same as single quotes:\n",
    "x = 'John'\n",
    "print(x)"
   ]
  },
  {
   "cell_type": "markdown",
   "id": "35a4ad31-eae9-4b00-9b0b-8a3aea23a0af",
   "metadata": {},
   "source": [
    "Example-15"
   ]
  },
  {
   "cell_type": "code",
   "execution_count": 61,
   "id": "43c21b67-c589-424d-9981-65fddf52f351",
   "metadata": {},
   "outputs": [
    {
     "name": "stdout",
     "output_type": "stream",
     "text": [
      "4\n",
      "Sally\n"
     ]
    }
   ],
   "source": [
    "a = 4\n",
    "A = \"Sally\"\n",
    "#a is not A\n",
    "print(a)\n",
    "print(A)"
   ]
  },
  {
   "cell_type": "markdown",
   "id": "3305e141-6f5e-4f93-a39c-771acedc2b11",
   "metadata": {},
   "source": [
    "Example-16"
   ]
  },
  {
   "cell_type": "code",
   "execution_count": 64,
   "id": "51554070-1fb4-435b-b5f7-be06b6f4079b",
   "metadata": {},
   "outputs": [
    {
     "name": "stdout",
     "output_type": "stream",
     "text": [
      "John\n",
      "John\n",
      "John\n",
      "John\n",
      "John\n",
      "John\n"
     ]
    }
   ],
   "source": [
    "myvar = \"John\"\n",
    "my_var = \"John\"\n",
    "_my_var = \"John\"\n",
    "myVar = \"John\"\n",
    "MYVAR = \"John\"\n",
    "myvar2 = \"John\"\n",
    "\n",
    "\n",
    "print(myvar)\n",
    "print(my_var)\n",
    "print(_my_var)\n",
    "print(myVar)\n",
    "print(MYVAR)\n",
    "print(myvar2)\n"
   ]
  },
  {
   "cell_type": "markdown",
   "id": "aa10fab8-501a-4290-9d0e-248508e4a30d",
   "metadata": {},
   "source": [
    "Example-17"
   ]
  },
  {
   "cell_type": "code",
   "execution_count": 67,
   "id": "5c1bd7dd-2d0b-4c9b-a159-747f727f4de2",
   "metadata": {},
   "outputs": [
    {
     "name": "stdout",
     "output_type": "stream",
     "text": [
      "Orange\n",
      "Banana\n",
      "Cherry\n"
     ]
    }
   ],
   "source": [
    "x, y, z = \"Orange\", \"Banana\", \"Cherry\"\n",
    "print(x)\n",
    "print(y)\n",
    "print(z)"
   ]
  },
  {
   "cell_type": "markdown",
   "id": "0a3e6f48-e999-4f22-a2ec-8b7f7f35a116",
   "metadata": {},
   "source": [
    "Example-18"
   ]
  },
  {
   "cell_type": "code",
   "execution_count": 70,
   "id": "6e3346bd-2543-4096-9c3b-77d038ccd0af",
   "metadata": {},
   "outputs": [
    {
     "name": "stdout",
     "output_type": "stream",
     "text": [
      "Orange\n",
      "Orange\n",
      "Orange\n"
     ]
    }
   ],
   "source": [
    "x = y = z = \"Orange\"\n",
    "print(x)\n",
    "print(y)\n",
    "print(z)"
   ]
  },
  {
   "cell_type": "markdown",
   "id": "6b54b1e2-a78c-43a7-a4f8-5580beddc8c7",
   "metadata": {},
   "source": [
    "Example-19"
   ]
  },
  {
   "cell_type": "code",
   "execution_count": 73,
   "id": "d6cb5e63-d12c-42a7-9988-d89341e22a84",
   "metadata": {},
   "outputs": [
    {
     "name": "stdout",
     "output_type": "stream",
     "text": [
      "apple\n",
      "banana\n",
      "cherry\n"
     ]
    }
   ],
   "source": [
    "fruits = [\"apple\", \"banana\", \"cherry\"]\n",
    "x, y, z = fruits\n",
    "print(x)\n",
    "print(y)\n",
    "print(z)"
   ]
  },
  {
   "cell_type": "markdown",
   "id": "f72ab6bf-8cc0-4722-95f5-bc4f690eeaa3",
   "metadata": {},
   "source": [
    "Example-20"
   ]
  },
  {
   "cell_type": "code",
   "execution_count": 76,
   "id": "51cab0fd-f6ce-495c-bd60-34b05cc71618",
   "metadata": {},
   "outputs": [
    {
     "name": "stdout",
     "output_type": "stream",
     "text": [
      "Python is awesome\n"
     ]
    }
   ],
   "source": [
    "x = \"Python is awesome\"\n",
    "print(x)"
   ]
  },
  {
   "cell_type": "markdown",
   "id": "bb63670d-3235-4b7d-934e-7bf55b0a3d26",
   "metadata": {},
   "source": [
    "Example-21"
   ]
  },
  {
   "cell_type": "code",
   "execution_count": 82,
   "id": "fbe86e41-5a32-4f37-bc69-905ff993018e",
   "metadata": {},
   "outputs": [
    {
     "name": "stdout",
     "output_type": "stream",
     "text": [
      "Python is awesome\n"
     ]
    }
   ],
   "source": [
    "x = \"Python\"\n",
    "y = \"is\"\n",
    "z = \"awesome\"\n",
    "print(x, y, z)"
   ]
  },
  {
   "cell_type": "markdown",
   "id": "c0abc33d-e7a7-46c5-a0ec-781e250f5ea8",
   "metadata": {},
   "source": [
    "Example-22"
   ]
  },
  {
   "cell_type": "code",
   "execution_count": 86,
   "id": "6fecc098-4322-40e5-920f-ace41acfc8ce",
   "metadata": {},
   "outputs": [
    {
     "name": "stdout",
     "output_type": "stream",
     "text": [
      "Python is awesome\n"
     ]
    }
   ],
   "source": [
    "x = \"Python \"\n",
    "y = \"is \"\n",
    "z = \"awesome\"\n",
    "print(x + y + z) #instead of ,"
   ]
  },
  {
   "cell_type": "markdown",
   "id": "37a88c85-b962-4090-a6eb-d2ca692e2c09",
   "metadata": {},
   "source": [
    "Example-23"
   ]
  },
  {
   "cell_type": "code",
   "execution_count": 89,
   "id": "8796e0e4-60ec-471b-9cc9-b70076c7727d",
   "metadata": {},
   "outputs": [
    {
     "name": "stdout",
     "output_type": "stream",
     "text": [
      "15\n"
     ]
    }
   ],
   "source": [
    "x=5\n",
    "y=10\n",
    "print(x+y)"
   ]
  },
  {
   "cell_type": "markdown",
   "id": "72ca1f7c-258f-4e4c-a1d6-e17f68673b29",
   "metadata": {},
   "source": [
    "Example-24"
   ]
  },
  {
   "cell_type": "code",
   "execution_count": 94,
   "id": "8f2b43aa-d510-4335-adc4-4b2d13298fc1",
   "metadata": {},
   "outputs": [
    {
     "name": "stdout",
     "output_type": "stream",
     "text": [
      "5 John\n"
     ]
    }
   ],
   "source": [
    "x = 5\n",
    "y = \"John\"\n",
    "print(x , y) #not + it is incorrect"
   ]
  },
  {
   "cell_type": "markdown",
   "id": "35bbca38-1839-41f1-a404-8a35a57d4a03",
   "metadata": {},
   "source": [
    "Example-25"
   ]
  },
  {
   "cell_type": "code",
   "execution_count": 99,
   "id": "7f30104f-267c-4e75-b679-3cef4b044242",
   "metadata": {},
   "outputs": [
    {
     "name": "stdout",
     "output_type": "stream",
     "text": [
      "Python is awesome\n"
     ]
    }
   ],
   "source": [
    "x=\"awesome\"\n",
    "def myfunc():\n",
    "    print(\"Python is \" + x)\n",
    "    \n",
    "myfunc()"
   ]
  },
  {
   "cell_type": "markdown",
   "id": "f49df45d-17bf-40ad-b028-324873b56327",
   "metadata": {},
   "source": [
    "Example-26"
   ]
  },
  {
   "cell_type": "code",
   "execution_count": 102,
   "id": "743f8891-0c7e-4c0c-b5b9-57d440b4a2a7",
   "metadata": {},
   "outputs": [
    {
     "name": "stdout",
     "output_type": "stream",
     "text": [
      "Python is fantastic\n",
      "Python is awesome\n"
     ]
    }
   ],
   "source": [
    "x = \"awesome\"\n",
    "\n",
    "def myfunc():\n",
    "  x = \"fantastic\"\n",
    "  print(\"Python is \" + x)\n",
    "\n",
    "myfunc()\n",
    "\n",
    "print(\"Python is \" + x)"
   ]
  },
  {
   "cell_type": "markdown",
   "id": "71087f23-5e35-4c81-9104-8c6fda82d74b",
   "metadata": {},
   "source": [
    "Example-27"
   ]
  },
  {
   "cell_type": "code",
   "execution_count": 105,
   "id": "0bc5c358-70fb-4040-bca9-22c8109b99f8",
   "metadata": {},
   "outputs": [
    {
     "name": "stdout",
     "output_type": "stream",
     "text": [
      "Python is fantastic\n"
     ]
    }
   ],
   "source": [
    "def myfunc():\n",
    "  global x\n",
    "  x = \"fantastic\"\n",
    "\n",
    "myfunc()\n",
    "\n",
    "print(\"Python is \" + x)"
   ]
  },
  {
   "cell_type": "markdown",
   "id": "65506580-b91e-47ea-9a7a-f3021b8e8829",
   "metadata": {},
   "source": [
    "Example-28"
   ]
  },
  {
   "cell_type": "code",
   "execution_count": 108,
   "id": "6eca9b4b-8691-4108-b890-3ff6bb121ef2",
   "metadata": {},
   "outputs": [
    {
     "name": "stdout",
     "output_type": "stream",
     "text": [
      "Python is fantastic\n"
     ]
    }
   ],
   "source": [
    "def myfunc():\n",
    "  global x\n",
    "  x = \"fantastic\"\n",
    "\n",
    "myfunc()\n",
    "\n",
    "print(\"Python is \" + x)"
   ]
  },
  {
   "cell_type": "markdown",
   "id": "c759d7b2-cf58-41ac-b04d-ad7c067a4fa4",
   "metadata": {},
   "source": [
    "Example-29"
   ]
  },
  {
   "cell_type": "code",
   "execution_count": 113,
   "id": "65808d17-1482-4753-9729-9732450f5f54",
   "metadata": {},
   "outputs": [
    {
     "name": "stdout",
     "output_type": "stream",
     "text": [
      "Python is fantastic\n"
     ]
    }
   ],
   "source": [
    "x = \"awesome\"\n",
    "\n",
    "def myfunc():\n",
    "  global x #for changing x\n",
    "  x = \"fantastic\"\n",
    "\n",
    "myfunc()\n",
    "\n",
    "print(\"Python is \" + x)"
   ]
  },
  {
   "cell_type": "markdown",
   "id": "f49ab487-259e-4ade-9653-7366212749ca",
   "metadata": {},
   "source": [
    "Example-30"
   ]
  },
  {
   "cell_type": "code",
   "execution_count": 116,
   "id": "fc0708c8-f3c7-4c3e-829d-f575c90c79ab",
   "metadata": {},
   "outputs": [
    {
     "name": "stdout",
     "output_type": "stream",
     "text": [
      "<class 'int'>\n"
     ]
    }
   ],
   "source": [
    "x = 5\n",
    "print(type(x))"
   ]
  },
  {
   "cell_type": "markdown",
   "id": "3a1a2820-c39c-4fa4-a42d-b57e11908f63",
   "metadata": {},
   "source": [
    "Example-31"
   ]
  },
  {
   "cell_type": "code",
   "execution_count": 244,
   "id": "fad1d178-4aaa-427f-91fe-579b8ab6d77b",
   "metadata": {},
   "outputs": [
    {
     "name": "stdout",
     "output_type": "stream",
     "text": [
      "Hello World\n",
      "<class 'str'>\n"
     ]
    }
   ],
   "source": [
    "x = \"Hello World\"\n",
    "\n",
    "print(x)\n",
    "\n",
    "print(type(x))\n",
    "\n"
   ]
  },
  {
   "cell_type": "markdown",
   "id": "8fa7d473-10c4-47a6-9afe-de08738fadb8",
   "metadata": {},
   "source": [
    "Example-32"
   ]
  },
  {
   "cell_type": "code",
   "execution_count": 246,
   "id": "d4fb7582-7066-40a5-bc00-1cad01dea690",
   "metadata": {},
   "outputs": [
    {
     "name": "stdout",
     "output_type": "stream",
     "text": [
      "Hello World\n",
      "<class 'str'>\n"
     ]
    }
   ],
   "source": [
    "x = \"Hello World\"\n",
    "print(x)\n",
    "\n",
    "print(type(x))\n"
   ]
  },
  {
   "cell_type": "markdown",
   "id": "9fb92427-7d4b-4d6f-8b38-bd7b832ce7cf",
   "metadata": {},
   "source": [
    "Example-33"
   ]
  },
  {
   "cell_type": "code",
   "execution_count": 248,
   "id": "47593d3a-8338-45da-8f62-2cfadebeaf78",
   "metadata": {},
   "outputs": [
    {
     "name": "stdout",
     "output_type": "stream",
     "text": [
      "20.5\n",
      "<class 'float'>\n"
     ]
    }
   ],
   "source": [
    "x = 20.5\n",
    "print(x)\n",
    "print(type(x))\n"
   ]
  },
  {
   "cell_type": "markdown",
   "id": "5415cef4-076e-4b37-a68f-2903b80eae28",
   "metadata": {},
   "source": [
    "Example-34"
   ]
  },
  {
   "cell_type": "code",
   "execution_count": 250,
   "id": "ddc5cd89-db72-4704-a33b-e8c9a290af36",
   "metadata": {},
   "outputs": [
    {
     "name": "stdout",
     "output_type": "stream",
     "text": [
      "1j\n",
      "<class 'complex'>\n"
     ]
    }
   ],
   "source": [
    "x = 1j\n",
    "print(x)\n",
    "print(type(x)) "
   ]
  },
  {
   "cell_type": "markdown",
   "id": "54b2b697-f63c-4dd0-8254-7f4ce26923ec",
   "metadata": {},
   "source": [
    "Example-35"
   ]
  },
  {
   "cell_type": "code",
   "execution_count": 252,
   "id": "7b82bd11-dd74-4b64-bd9a-0659b262dbbf",
   "metadata": {},
   "outputs": [
    {
     "name": "stdout",
     "output_type": "stream",
     "text": [
      "['apple', 'banana', 'cherry']\n",
      "<class 'list'>\n"
     ]
    }
   ],
   "source": [
    "x = [\"apple\", \"banana\", \"cherry\"]\n",
    "print(x)\n",
    "print(type(x)) "
   ]
  },
  {
   "cell_type": "markdown",
   "id": "2835af50-b963-49eb-a70b-68c3c845128c",
   "metadata": {},
   "source": [
    "Example-36"
   ]
  },
  {
   "cell_type": "code",
   "execution_count": 254,
   "id": "e3172e7d-9e2a-43a4-831c-06fc059a76e6",
   "metadata": {},
   "outputs": [
    {
     "name": "stdout",
     "output_type": "stream",
     "text": [
      "('apple', 'banana', 'cherry')\n",
      "<class 'tuple'>\n"
     ]
    }
   ],
   "source": [
    "x = (\"apple\", \"banana\", \"cherry\")\n",
    "print(x)\n",
    "print(type(x)) \n"
   ]
  },
  {
   "cell_type": "markdown",
   "id": "7cba630e-105a-4c9a-b7d2-8cf2c4662f1d",
   "metadata": {},
   "source": [
    "Example-37"
   ]
  },
  {
   "cell_type": "code",
   "execution_count": 256,
   "id": "fd586a5f-8254-4290-8877-e14b8e0af6da",
   "metadata": {},
   "outputs": [
    {
     "name": "stdout",
     "output_type": "stream",
     "text": [
      "range(0, 6)\n",
      "<class 'range'>\n"
     ]
    }
   ],
   "source": [
    "x = range(6)\n",
    "\n",
    "print(x)\n",
    "print(type(x)) "
   ]
  },
  {
   "cell_type": "markdown",
   "id": "01625649-58cc-4258-adcc-f9a235b64913",
   "metadata": {},
   "source": [
    "Example-38"
   ]
  },
  {
   "cell_type": "code",
   "execution_count": 242,
   "id": "3f65c7eb-6932-44a0-b102-b6166ae4ca56",
   "metadata": {},
   "outputs": [
    {
     "name": "stdout",
     "output_type": "stream",
     "text": [
      "{'name': 'John', 'age': 36}\n",
      "<class 'dict'>\n"
     ]
    }
   ],
   "source": [
    "x = {\"name\" : \"John\", \"age\" : 36}\n",
    "print(x)\n",
    "print(type(x)) \n"
   ]
  },
  {
   "cell_type": "markdown",
   "id": "ae58e125-400c-4622-a64a-4e6e02ad8853",
   "metadata": {},
   "source": [
    "Example-39"
   ]
  },
  {
   "cell_type": "code",
   "execution_count": 240,
   "id": "5d01ed89-9262-4138-bc70-c0de4f958128",
   "metadata": {},
   "outputs": [
    {
     "name": "stdout",
     "output_type": "stream",
     "text": [
      "{'cherry', 'banana', 'apple'}\n",
      "<class 'set'>\n"
     ]
    }
   ],
   "source": [
    "x = {\"apple\", \"banana\", \"cherry\"}\n",
    "\n",
    "print(x)\n",
    "\n",
    "print(type(x)) \n"
   ]
  },
  {
   "cell_type": "markdown",
   "id": "99c70826-eb9b-4a54-9419-746370f04811",
   "metadata": {},
   "source": [
    "Example-40"
   ]
  },
  {
   "cell_type": "code",
   "execution_count": 238,
   "id": "51084c37-b1c9-4209-8871-770a3073ec5c",
   "metadata": {},
   "outputs": [
    {
     "name": "stdout",
     "output_type": "stream",
     "text": [
      "frozenset({'cherry', 'banana', 'apple'})\n",
      "<class 'frozenset'>\n"
     ]
    }
   ],
   "source": [
    "x = frozenset({\"apple\", \"banana\", \"cherry\"})\n",
    "print(x)\n",
    "\n",
    "print(type(x)) \n",
    "\n"
   ]
  },
  {
   "cell_type": "markdown",
   "id": "72d01d36-30eb-4fd3-8f20-0ab5d50e4229",
   "metadata": {},
   "source": [
    "Example-41"
   ]
  },
  {
   "cell_type": "code",
   "execution_count": 236,
   "id": "731b9d6d-fdde-42f3-99d7-72b90e7413b2",
   "metadata": {},
   "outputs": [
    {
     "name": "stdout",
     "output_type": "stream",
     "text": [
      "True\n",
      "<class 'bool'>\n"
     ]
    }
   ],
   "source": [
    "x = True\n",
    "\n",
    "print(x)\n",
    "\n",
    "print(type(x)) \n"
   ]
  },
  {
   "cell_type": "markdown",
   "id": "e98a739c-0be5-469c-a6c1-a1b07e444ec5",
   "metadata": {},
   "source": [
    "Example-42"
   ]
  },
  {
   "cell_type": "code",
   "execution_count": 234,
   "id": "1937968e-7fe9-48b9-9d10-f54232fded45",
   "metadata": {},
   "outputs": [
    {
     "name": "stdout",
     "output_type": "stream",
     "text": [
      "b'Hello'\n",
      "<class 'bytes'>\n"
     ]
    }
   ],
   "source": [
    "x = b\"Hello\"\n",
    "\n",
    "\n",
    "print(x)\n",
    "\n",
    "print(type(x)) "
   ]
  },
  {
   "cell_type": "markdown",
   "id": "b4dc659c-0a21-490c-b2e3-871203715974",
   "metadata": {},
   "source": [
    "Example-43"
   ]
  },
  {
   "cell_type": "code",
   "execution_count": 232,
   "id": "e3e23487-c4bb-4bb3-851e-06ec6a0b1ef2",
   "metadata": {},
   "outputs": [
    {
     "name": "stdout",
     "output_type": "stream",
     "text": [
      "bytearray(b'\\x00\\x00\\x00\\x00\\x00\\x00')\n",
      "<class 'bytearray'>\n"
     ]
    }
   ],
   "source": [
    "x = bytearray(6)\n",
    "\n",
    "print(x)\n",
    "\n",
    "print(type(x)) "
   ]
  },
  {
   "cell_type": "markdown",
   "id": "e863ae3c-a276-4ecc-a131-18dd045ea1cb",
   "metadata": {},
   "source": [
    "Example-44 "
   ]
  },
  {
   "cell_type": "code",
   "execution_count": 230,
   "id": "255c1bce-e5f7-4422-9b20-9ae6d5764981",
   "metadata": {},
   "outputs": [
    {
     "name": "stdout",
     "output_type": "stream",
     "text": [
      "<memory at 0x000002289905F700>\n",
      "<class 'memoryview'>\n"
     ]
    }
   ],
   "source": [
    "x = memoryview(bytes(5))\n",
    "\n",
    "print(x)\n",
    "\n",
    "print(type(x)) "
   ]
  },
  {
   "cell_type": "markdown",
   "id": "365124da-16cc-4625-b296-9be7278d2089",
   "metadata": {},
   "source": [
    "Example-45"
   ]
  },
  {
   "cell_type": "code",
   "execution_count": 228,
   "id": "860e95ad-f9a2-4b9c-b874-33cb62a0ce90",
   "metadata": {},
   "outputs": [
    {
     "name": "stdout",
     "output_type": "stream",
     "text": [
      "None\n",
      "<class 'NoneType'>\n"
     ]
    }
   ],
   "source": [
    "x = None\n",
    "\n",
    "print(x)\n",
    "\n",
    "print(type(x)) \n"
   ]
  },
  {
   "cell_type": "markdown",
   "id": "b4008616-dec1-4be0-8edf-7d75cdcbc917",
   "metadata": {},
   "source": [
    "Example-46"
   ]
  },
  {
   "cell_type": "code",
   "execution_count": 226,
   "id": "3b67b2d5-8804-410a-8fdb-19b59bf63448",
   "metadata": {},
   "outputs": [
    {
     "name": "stdout",
     "output_type": "stream",
     "text": [
      "Hello World\n",
      "<class 'str'>\n"
     ]
    }
   ],
   "source": [
    "x = str(\"Hello World\")\n",
    "\n",
    "print(x)\n",
    "print(type(x)) \n"
   ]
  },
  {
   "cell_type": "markdown",
   "id": "01fac758-ac2f-4d82-baa7-5c66556527ed",
   "metadata": {},
   "source": [
    "Example-47"
   ]
  },
  {
   "cell_type": "code",
   "execution_count": 224,
   "id": "2d010a78-933f-4d8d-8771-d761656a146a",
   "metadata": {},
   "outputs": [
    {
     "name": "stdout",
     "output_type": "stream",
     "text": [
      "20\n",
      "<class 'int'>\n"
     ]
    }
   ],
   "source": [
    "x = int(20)\n",
    "\n",
    "print(x)\n",
    "\n",
    "print(type(x)) "
   ]
  },
  {
   "cell_type": "markdown",
   "id": "8f0869d8-a0c0-46bc-8c27-aaa185da2113",
   "metadata": {},
   "source": [
    "Example-48"
   ]
  },
  {
   "cell_type": "code",
   "execution_count": 222,
   "id": "bda3cc3d-d643-4a5f-8c5e-68e00d7caec3",
   "metadata": {},
   "outputs": [
    {
     "name": "stdout",
     "output_type": "stream",
     "text": [
      "20.5\n",
      "<class 'float'>\n"
     ]
    }
   ],
   "source": [
    "x = float(20.5)\n",
    "\n",
    "print(x)\n",
    "\n",
    "print(type(x)) \n"
   ]
  },
  {
   "cell_type": "markdown",
   "id": "38ff7f05-b7a3-4761-b34f-e7e52f77e3b9",
   "metadata": {},
   "source": [
    "Example-49"
   ]
  },
  {
   "cell_type": "code",
   "execution_count": 220,
   "id": "c9f6cf6c-f392-4704-86b2-83a3d098fdec",
   "metadata": {},
   "outputs": [
    {
     "name": "stdout",
     "output_type": "stream",
     "text": [
      "1j\n",
      "<class 'complex'>\n"
     ]
    }
   ],
   "source": [
    "x = complex(1j)\n",
    "\n",
    "print(x)\n",
    "\n",
    "print(type(x)) "
   ]
  },
  {
   "cell_type": "markdown",
   "id": "fb4074d1-8c72-4b87-a0ed-b723d0e61913",
   "metadata": {},
   "source": [
    "Example-50"
   ]
  },
  {
   "cell_type": "code",
   "execution_count": 209,
   "id": "0c1f082e-2fa3-4e4a-8c51-3a7373faf30e",
   "metadata": {},
   "outputs": [
    {
     "name": "stdout",
     "output_type": "stream",
     "text": [
      "['apple', 'banana', 'cherry']\n",
      "<class 'list'>\n"
     ]
    }
   ],
   "source": [
    "x = list((\"apple\", \"banana\", \"cherry\"))\n",
    "\n",
    "print(x)\n",
    "\n",
    "print(type(x)) \n"
   ]
  },
  {
   "cell_type": "markdown",
   "id": "88c48c6a-c6db-4a40-b26b-32d8126e1e38",
   "metadata": {},
   "source": [
    "Example-51"
   ]
  },
  {
   "cell_type": "code",
   "execution_count": 216,
   "id": "c7679bd8-ae44-4598-b1b9-7a78ceb6b704",
   "metadata": {},
   "outputs": [
    {
     "name": "stdout",
     "output_type": "stream",
     "text": [
      "('apple', 'banana', 'cherry')\n",
      "<class 'tuple'>\n"
     ]
    }
   ],
   "source": [
    "x = tuple((\"apple\", \"banana\", \"cherry\"))\n",
    "\n",
    "print(x)\n",
    "print(type(x)) "
   ]
  },
  {
   "cell_type": "markdown",
   "id": "66ec3335-271e-4390-849c-416f9fcca501",
   "metadata": {},
   "source": [
    "Example-52"
   ]
  },
  {
   "cell_type": "code",
   "execution_count": 214,
   "id": "af7cac06-ffa0-47fa-b9cb-51547ffae1c3",
   "metadata": {},
   "outputs": [
    {
     "name": "stdout",
     "output_type": "stream",
     "text": [
      "range(0, 6)\n",
      "<class 'range'>\n"
     ]
    }
   ],
   "source": [
    "x = range(6)\n",
    "print(x)\n",
    "\n",
    "print(type(x)) \n"
   ]
  },
  {
   "cell_type": "markdown",
   "id": "5f46f0c9-b224-4177-9eac-ec4b2d3b221c",
   "metadata": {},
   "source": [
    "Example-53"
   ]
  },
  {
   "cell_type": "code",
   "execution_count": 259,
   "id": "e8c672d3-4713-47e4-a49a-191598eb4eb6",
   "metadata": {},
   "outputs": [
    {
     "name": "stdout",
     "output_type": "stream",
     "text": [
      "{'name': 'John', 'age': 36}\n",
      "<class 'dict'>\n"
     ]
    }
   ],
   "source": [
    "x = dict(name=\"John\", age=36)\n",
    "print(x)\n",
    "print(type(x)) "
   ]
  },
  {
   "cell_type": "markdown",
   "id": "485556f5-c8bc-4aab-a36d-97fcdf747827",
   "metadata": {},
   "source": [
    "Example-54"
   ]
  },
  {
   "cell_type": "code",
   "execution_count": 268,
   "id": "0b9544dc-bdad-48f2-89fe-aa7acfd7780c",
   "metadata": {},
   "outputs": [
    {
     "name": "stdout",
     "output_type": "stream",
     "text": [
      "{'cherry', 'banana', 'apple'}\n",
      "<class 'set'>\n"
     ]
    }
   ],
   "source": [
    "x = set((\"apple\", \"banana\", \"cherry\"))\n",
    "print(x)\n",
    "print(type(x)) \n"
   ]
  },
  {
   "cell_type": "markdown",
   "id": "391808b8-337b-4849-9b7f-4de9a14739c4",
   "metadata": {},
   "source": [
    "Example-55"
   ]
  },
  {
   "cell_type": "code",
   "execution_count": 270,
   "id": "36fa8e34-9d3b-4543-9d70-22687162e82b",
   "metadata": {},
   "outputs": [
    {
     "name": "stdout",
     "output_type": "stream",
     "text": [
      "frozenset({'cherry', 'banana', 'apple'})\n",
      "<class 'frozenset'>\n"
     ]
    }
   ],
   "source": [
    "x = frozenset((\"apple\", \"banana\", \"cherry\"))\n",
    "print(x)\n",
    "print(type(x))"
   ]
  },
  {
   "cell_type": "markdown",
   "id": "345b0420-cb8e-48e2-a5a0-a51e19a2a8ba",
   "metadata": {},
   "source": [
    "Example-56"
   ]
  },
  {
   "cell_type": "code",
   "execution_count": 272,
   "id": "b66f1cee-c589-432e-a60c-53cb79ee683f",
   "metadata": {},
   "outputs": [
    {
     "name": "stdout",
     "output_type": "stream",
     "text": [
      "True\n",
      "<class 'bool'>\n"
     ]
    }
   ],
   "source": [
    "x = bool(5)\n",
    "print(x)\n",
    "print(type(x)) "
   ]
  },
  {
   "cell_type": "markdown",
   "id": "236d988e-8520-4709-8e07-84b1513d3c8d",
   "metadata": {},
   "source": [
    "Example-57"
   ]
  },
  {
   "cell_type": "code",
   "execution_count": 283,
   "id": "761a91a3-8b57-470b-bd77-07b87a1f250c",
   "metadata": {},
   "outputs": [
    {
     "name": "stdout",
     "output_type": "stream",
     "text": [
      "b'\\x00\\x00\\x00\\x00\\x00'\n",
      "<class 'bytes'>\n"
     ]
    }
   ],
   "source": [
    "x = bytes(5)\n",
    "print(x)\n",
    "print(type(x)) \n"
   ]
  },
  {
   "cell_type": "markdown",
   "id": "4dcaa378-1369-4224-acc9-31f3344f60b4",
   "metadata": {},
   "source": [
    "Example-58"
   ]
  },
  {
   "cell_type": "code",
   "execution_count": 276,
   "id": "e3afe75f-dcf2-4fa5-830a-a6204d3a954d",
   "metadata": {},
   "outputs": [
    {
     "name": "stdout",
     "output_type": "stream",
     "text": [
      "bytearray(b'\\x00\\x00\\x00\\x00\\x00')\n",
      "<class 'bytearray'>\n"
     ]
    }
   ],
   "source": [
    "x = bytearray(5)\n",
    "print(x)\n",
    "print(type(x)) "
   ]
  },
  {
   "cell_type": "markdown",
   "id": "b207eb15-dcf7-45c8-aefe-8f2fa2c8b383",
   "metadata": {},
   "source": [
    "Example-59"
   ]
  },
  {
   "cell_type": "code",
   "execution_count": 278,
   "id": "d312d971-f3a1-46b6-a79f-14e96edd62d3",
   "metadata": {},
   "outputs": [
    {
     "name": "stdout",
     "output_type": "stream",
     "text": [
      "<memory at 0x000002289905FA00>\n",
      "<class 'memoryview'>\n"
     ]
    }
   ],
   "source": [
    "x = memoryview(bytes(5))\n",
    "print(x)\n",
    "print(type(x)) \n"
   ]
  },
  {
   "cell_type": "markdown",
   "id": "f23e6fd7-d0b3-4d0e-b9ef-98f943437372",
   "metadata": {},
   "source": [
    "Example-60"
   ]
  },
  {
   "cell_type": "code",
   "execution_count": 287,
   "id": "d40926b9-d9c4-40d1-9912-c3da66f9ff78",
   "metadata": {},
   "outputs": [
    {
     "name": "stdout",
     "output_type": "stream",
     "text": [
      "<class 'int'>\n",
      "<class 'float'>\n",
      "<class 'complex'>\n"
     ]
    }
   ],
   "source": [
    "x = 1\n",
    "y = 2.8\n",
    "z = 1j\n",
    "\n",
    "print(type(x))\n",
    "print(type(y))\n",
    "print(type(z))"
   ]
  },
  {
   "cell_type": "markdown",
   "id": "2f22c638-fa1b-44b8-ad3f-9107a6b683c2",
   "metadata": {},
   "source": [
    "Example-61"
   ]
  },
  {
   "cell_type": "code",
   "execution_count": 291,
   "id": "4d1af8af-991e-49d8-b90e-052bd55119ad",
   "metadata": {},
   "outputs": [
    {
     "name": "stdout",
     "output_type": "stream",
     "text": [
      "<class 'int'>\n",
      "<class 'int'>\n",
      "<class 'int'>\n"
     ]
    }
   ],
   "source": [
    "x = 1\n",
    "y = 35656222554887711\n",
    "z = -3255522\n",
    "\n",
    "print(type(x))\n",
    "print(type(y))\n",
    "print(type(z))"
   ]
  },
  {
   "cell_type": "markdown",
   "id": "0d2e683f-9560-4124-bdcf-b5879e206391",
   "metadata": {},
   "source": [
    "Example-62"
   ]
  },
  {
   "cell_type": "code",
   "execution_count": 293,
   "id": "4b2d1612-437b-4c31-9753-0f06edb50b8f",
   "metadata": {},
   "outputs": [
    {
     "name": "stdout",
     "output_type": "stream",
     "text": [
      "<class 'float'>\n",
      "<class 'float'>\n",
      "<class 'float'>\n"
     ]
    }
   ],
   "source": [
    "x = 1.10\n",
    "y = 1.0\n",
    "z = -35.59\n",
    "\n",
    "print(type(x))\n",
    "print(type(y))\n",
    "print(type(z))"
   ]
  },
  {
   "cell_type": "markdown",
   "id": "e1144434-2308-461f-a228-c372c7b7e14f",
   "metadata": {},
   "source": [
    "Example-63"
   ]
  },
  {
   "cell_type": "code",
   "execution_count": 295,
   "id": "a69d1995-10d5-4bf2-a024-5d0521c9972a",
   "metadata": {},
   "outputs": [
    {
     "name": "stdout",
     "output_type": "stream",
     "text": [
      "<class 'float'>\n",
      "<class 'float'>\n",
      "<class 'float'>\n"
     ]
    }
   ],
   "source": [
    "x = 35e3\n",
    "y = 12E4\n",
    "z = -87.7e100\n",
    "\n",
    "print(type(x))\n",
    "print(type(y))\n",
    "print(type(z))\n"
   ]
  },
  {
   "cell_type": "markdown",
   "id": "51ea1909-14f3-4f8e-8063-3fd5754ba7cc",
   "metadata": {},
   "source": [
    "Example-64"
   ]
  },
  {
   "cell_type": "code",
   "execution_count": 297,
   "id": "177686e8-9b4c-4bb6-92f3-b84cc46e5b9d",
   "metadata": {},
   "outputs": [
    {
     "name": "stdout",
     "output_type": "stream",
     "text": [
      "<class 'complex'>\n",
      "<class 'complex'>\n",
      "<class 'complex'>\n"
     ]
    }
   ],
   "source": [
    "x = 3+5j\n",
    "y = 5j\n",
    "z = -5j\n",
    "\n",
    "print(type(x))\n",
    "print(type(y))\n",
    "print(type(z))"
   ]
  },
  {
   "cell_type": "markdown",
   "id": "2f1ee1e3-86a6-43c3-a1f9-f2f8b4755483",
   "metadata": {},
   "source": [
    "Example-65"
   ]
  },
  {
   "cell_type": "code",
   "execution_count": 299,
   "id": "e67273e1-5583-4b59-81f7-3b5a635e6dad",
   "metadata": {},
   "outputs": [
    {
     "name": "stdout",
     "output_type": "stream",
     "text": [
      "1.0\n",
      "2\n",
      "(1+0j)\n",
      "<class 'float'>\n",
      "<class 'int'>\n",
      "<class 'complex'>\n"
     ]
    }
   ],
   "source": [
    "x = float(1) #convert to float\n",
    "y = int(2.8) #convert to int\n",
    "z = complex(1) #convert to complex from int\n",
    "\n",
    "print(x)\n",
    "print(y)\n",
    "print(z)\n",
    "\n",
    "print(type(x))\n",
    "print(type(y))\n",
    "print(type(z))\n"
   ]
  },
  {
   "cell_type": "markdown",
   "id": "8025d26d-79cd-470a-ae24-34d17bbdbecb",
   "metadata": {},
   "source": [
    "Example-66"
   ]
  },
  {
   "cell_type": "code",
   "execution_count": 304,
   "id": "7cdc5c2e-952e-4e3e-918f-b75c796d9b00",
   "metadata": {},
   "outputs": [
    {
     "name": "stdout",
     "output_type": "stream",
     "text": [
      "7\n"
     ]
    }
   ],
   "source": [
    "import random\n",
    "\n",
    "print(random.randrange(1, 10))"
   ]
  },
  {
   "cell_type": "markdown",
   "id": "e30d9b69-c4d3-4601-8f56-73b1794c0629",
   "metadata": {},
   "source": [
    "Example-67\n"
   ]
  },
  {
   "cell_type": "code",
   "execution_count": 307,
   "id": "f3e16ab1-1a1b-4887-9e54-8379ed62cc23",
   "metadata": {},
   "outputs": [
    {
     "name": "stdout",
     "output_type": "stream",
     "text": [
      "1\n",
      "2\n",
      "3\n"
     ]
    }
   ],
   "source": [
    "x = int(1)\n",
    "y = int(2.8)\n",
    "z = int(\"3\")\n",
    "print(x)\n",
    "print(y)\n",
    "print(z)"
   ]
  },
  {
   "cell_type": "markdown",
   "id": "c1e92e41-24d6-466c-9558-c09fbf68ca96",
   "metadata": {},
   "source": [
    "Example-68"
   ]
  },
  {
   "cell_type": "code",
   "execution_count": 310,
   "id": "727a0c0e-198f-4e05-9c8b-f7c674b877ab",
   "metadata": {},
   "outputs": [
    {
     "name": "stdout",
     "output_type": "stream",
     "text": [
      "1.0\n",
      "2.8\n",
      "3.0\n",
      "4.2\n"
     ]
    }
   ],
   "source": [
    "x = float(1)\n",
    "y = float(2.8)\n",
    "z = float(\"3\")\n",
    "w = float(\"4.2\")\n",
    "print(x)\n",
    "print(y)\n",
    "print(z)\n",
    "print(w)"
   ]
  },
  {
   "cell_type": "markdown",
   "id": "a3c81754-a8f8-4ec2-9273-4b126b389531",
   "metadata": {},
   "source": [
    "Example-69"
   ]
  },
  {
   "cell_type": "code",
   "execution_count": 313,
   "id": "f3e10ecf-0325-4ee7-858b-3b7522cf13cb",
   "metadata": {},
   "outputs": [
    {
     "name": "stdout",
     "output_type": "stream",
     "text": [
      "s1\n",
      "2\n",
      "3.0\n"
     ]
    }
   ],
   "source": [
    "x = str(\"s1\")\n",
    "y = str(2)\n",
    "z = str(3.0)\n",
    "print(x)\n",
    "print(y)\n",
    "print(z)"
   ]
  },
  {
   "cell_type": "markdown",
   "id": "e856274a-06cf-40ca-a1f3-1e171be304d5",
   "metadata": {},
   "source": [
    "Example-70"
   ]
  },
  {
   "cell_type": "code",
   "execution_count": 316,
   "id": "acea62e5-a536-43a7-887e-2a96c18b6c62",
   "metadata": {},
   "outputs": [
    {
     "name": "stdout",
     "output_type": "stream",
     "text": [
      "Hello\n",
      "Hello\n"
     ]
    }
   ],
   "source": [
    "print(\"Hello\")\n",
    "print('Hello')"
   ]
  },
  {
   "cell_type": "markdown",
   "id": "b1d4c763-8bfe-429e-b1ae-63d4dfc85515",
   "metadata": {},
   "source": [
    "Example-71"
   ]
  },
  {
   "cell_type": "code",
   "execution_count": 320,
   "id": "3ecebef5-803e-4211-ae7b-6691df137ad0",
   "metadata": {},
   "outputs": [
    {
     "name": "stdout",
     "output_type": "stream",
     "text": [
      "It's alright\n",
      "He is called 'Johnny'\n",
      "He is called \"Johnny\"\n"
     ]
    }
   ],
   "source": [
    "print(\"It's alright\")\n",
    "print(\"He is called 'Johnny'\")\n",
    "print('He is called \"Johnny\"')"
   ]
  },
  {
   "cell_type": "markdown",
   "id": "2ce7d48f-c0be-4211-9cb4-bf996f8eda19",
   "metadata": {},
   "source": [
    "Example-72"
   ]
  },
  {
   "cell_type": "code",
   "execution_count": 322,
   "id": "6198dc05-82fe-4a0b-b8f0-85c4e3868fb1",
   "metadata": {},
   "outputs": [
    {
     "name": "stdout",
     "output_type": "stream",
     "text": [
      "Hello\n"
     ]
    }
   ],
   "source": [
    "a = \"Hello\"\n",
    "print(a)"
   ]
  },
  {
   "cell_type": "markdown",
   "id": "570aa2e1-6309-4b48-b01f-992a682b4cca",
   "metadata": {},
   "source": [
    "Example-73"
   ]
  },
  {
   "cell_type": "code",
   "execution_count": 324,
   "id": "3ae086e4-c101-48a8-b621-26c38bf985bd",
   "metadata": {},
   "outputs": [
    {
     "name": "stdout",
     "output_type": "stream",
     "text": [
      "Lorem ipsum dolor sit amet,\n",
      "consectetur adipiscing elit,\n",
      "sed do eiusmod tempor incididunt\n",
      "ut labore et dolore magna aliqua.\n"
     ]
    }
   ],
   "source": [
    "a = \"\"\"Lorem ipsum dolor sit amet,\n",
    "consectetur adipiscing elit,\n",
    "sed do eiusmod tempor incididunt\n",
    "ut labore et dolore magna aliqua.\"\"\"\n",
    "print(a)"
   ]
  },
  {
   "cell_type": "markdown",
   "id": "32c62086-5278-4aa3-88a0-85ff8a72293f",
   "metadata": {},
   "source": [
    "Example-74"
   ]
  },
  {
   "cell_type": "code",
   "execution_count": null,
   "id": "6e57eae2-3422-4d5d-8b3c-7e835e2f59f2",
   "metadata": {},
   "outputs": [],
   "source": [
    "a = '''Lorem ipsum dolor sit amet,\n",
    "consectetur adipiscing elit,\n",
    "sed do eiusmod tempor incididunt\n",
    "ut labore et dolore magna aliqua.'''\n",
    "print(a)"
   ]
  },
  {
   "cell_type": "markdown",
   "id": "65b34c07-3b8a-4bbe-9fe4-ec218198e1b2",
   "metadata": {},
   "source": [
    "Example-75"
   ]
  },
  {
   "cell_type": "code",
   "execution_count": 334,
   "id": "b111452a-412c-457e-9551-0c1fd3547dda",
   "metadata": {},
   "outputs": [
    {
     "name": "stdout",
     "output_type": "stream",
     "text": [
      "H\n"
     ]
    }
   ],
   "source": [
    "a = \"Hello, World!\"\n",
    "print(a[0])\n"
   ]
  },
  {
   "cell_type": "markdown",
   "id": "d627ae33-500d-4c16-bb26-c028f1bc88b3",
   "metadata": {},
   "source": [
    "Example-76"
   ]
  },
  {
   "cell_type": "code",
   "execution_count": 336,
   "id": "e7f65b78-efef-4d82-9663-5b3e9ac024db",
   "metadata": {},
   "outputs": [
    {
     "name": "stdout",
     "output_type": "stream",
     "text": [
      "b\n",
      "a\n",
      "n\n",
      "a\n",
      "n\n",
      "a\n"
     ]
    }
   ],
   "source": [
    "for x in \"banana\":\n",
    "  print(x)"
   ]
  },
  {
   "cell_type": "markdown",
   "id": "3fad3035-8bc0-4227-a31a-67ad78d98529",
   "metadata": {},
   "source": [
    "Example-77"
   ]
  },
  {
   "cell_type": "code",
   "execution_count": 339,
   "id": "e41cfbc0-87e4-40e4-a71f-e48b57096660",
   "metadata": {},
   "outputs": [
    {
     "name": "stdout",
     "output_type": "stream",
     "text": [
      "13\n"
     ]
    }
   ],
   "source": [
    "a = \"Hello, World!\"\n",
    "print(len(a))"
   ]
  },
  {
   "cell_type": "markdown",
   "id": "e725f6a0-15b0-40ee-bcd5-68d173c017cb",
   "metadata": {},
   "source": [
    "Example-78"
   ]
  },
  {
   "cell_type": "code",
   "execution_count": 342,
   "id": "cfe345a2-271d-42e2-a1e7-c5079d8a079f",
   "metadata": {},
   "outputs": [
    {
     "name": "stdout",
     "output_type": "stream",
     "text": [
      "True\n"
     ]
    }
   ],
   "source": [
    "txt = \"The best things in life are free!\"\n",
    "print(\"free\" in txt)"
   ]
  },
  {
   "cell_type": "markdown",
   "id": "aab2b20c-5d16-463a-b13e-1edb9a3539d2",
   "metadata": {},
   "source": [
    "Example-79"
   ]
  },
  {
   "cell_type": "code",
   "execution_count": 346,
   "id": "4eb8b2d1-5e1b-4540-b374-22e82419b39d",
   "metadata": {},
   "outputs": [
    {
     "name": "stdout",
     "output_type": "stream",
     "text": [
      "Yes, 'free' is present.\n"
     ]
    }
   ],
   "source": [
    "txt = \"The best things in life are free!\"\n",
    "if \"free\" in txt:\n",
    "  print(\"Yes, 'free' is present.\")"
   ]
  },
  {
   "cell_type": "markdown",
   "id": "4ae3fd2c-f422-41b5-b2fe-b9ea797f289f",
   "metadata": {},
   "source": [
    "Example-80"
   ]
  },
  {
   "cell_type": "code",
   "execution_count": 349,
   "id": "d4f11878-5cf4-42a2-8617-6975adf8fa46",
   "metadata": {},
   "outputs": [
    {
     "name": "stdout",
     "output_type": "stream",
     "text": [
      "True\n"
     ]
    }
   ],
   "source": [
    "txt = \"The best things in life are free!\"\n",
    "print(\"expensive\" not in txt)\n"
   ]
  },
  {
   "cell_type": "markdown",
   "id": "9e53db39-a2b7-4b02-a996-f4cffe2f8ca7",
   "metadata": {},
   "source": [
    "Example-81"
   ]
  },
  {
   "cell_type": "code",
   "execution_count": 351,
   "id": "27476f15-7617-4ebf-9453-301141c32657",
   "metadata": {},
   "outputs": [
    {
     "name": "stdout",
     "output_type": "stream",
     "text": [
      "No, 'expensive' is NOT present.\n"
     ]
    }
   ],
   "source": [
    "txt = \"The best things in life are free!\"\n",
    "if \"expensive\" not in txt:\n",
    "  print(\"No, 'expensive' is NOT present.\")"
   ]
  },
  {
   "cell_type": "markdown",
   "id": "1ae18d0e-7068-417b-a52f-93b203d540fe",
   "metadata": {},
   "source": [
    "Example-82"
   ]
  },
  {
   "cell_type": "code",
   "execution_count": 353,
   "id": "d3fa45de-0d8e-45cd-a12e-742a7e9cd14d",
   "metadata": {},
   "outputs": [
    {
     "name": "stdout",
     "output_type": "stream",
     "text": [
      "llo\n"
     ]
    }
   ],
   "source": [
    "b = \"Hello, World!\"\n",
    "print(b[2:5])"
   ]
  },
  {
   "cell_type": "markdown",
   "id": "d4f96712-e436-46f6-a4ea-162cdd282ee2",
   "metadata": {},
   "source": [
    "Example-83"
   ]
  },
  {
   "cell_type": "code",
   "execution_count": 358,
   "id": "c42d030f-3356-4706-a712-8a0e2ae488df",
   "metadata": {},
   "outputs": [
    {
     "name": "stdout",
     "output_type": "stream",
     "text": [
      "Hello\n"
     ]
    }
   ],
   "source": [
    "b = \"Hello, World!\"\n",
    "print(b[:5])"
   ]
  },
  {
   "cell_type": "markdown",
   "id": "f32ca497-87d6-4eff-8e35-730039d7ec2a",
   "metadata": {},
   "source": [
    "Example-84"
   ]
  },
  {
   "cell_type": "code",
   "execution_count": 361,
   "id": "692af41b-5487-45b6-a969-36f5a23deba3",
   "metadata": {},
   "outputs": [
    {
     "name": "stdout",
     "output_type": "stream",
     "text": [
      "llo, World!\n"
     ]
    }
   ],
   "source": [
    "b = \"Hello, World!\"\n",
    "print(b[2:])"
   ]
  },
  {
   "cell_type": "markdown",
   "id": "3576bea3-c29f-4d6f-9ec3-217266b3b83c",
   "metadata": {},
   "source": [
    "Example-85"
   ]
  },
  {
   "cell_type": "code",
   "execution_count": 368,
   "id": "b2ed26df-a55b-491d-8106-d549c434a5c7",
   "metadata": {},
   "outputs": [
    {
     "name": "stdout",
     "output_type": "stream",
     "text": [
      "orl\n"
     ]
    }
   ],
   "source": [
    "b = \"Hello, World!\"\n",
    "print(b[-5:-2])"
   ]
  },
  {
   "cell_type": "markdown",
   "id": "07091a4c-7b40-4675-8186-51868d515cd7",
   "metadata": {},
   "source": [
    "Example-86"
   ]
  },
  {
   "cell_type": "code",
   "execution_count": 370,
   "id": "cc60e3a6-479d-445f-bf35-6e880b1ab089",
   "metadata": {},
   "outputs": [
    {
     "name": "stdout",
     "output_type": "stream",
     "text": [
      "HELLO, WORLD!\n"
     ]
    }
   ],
   "source": [
    "a = \"Hello, World!\"\n",
    "print(a.upper())"
   ]
  },
  {
   "cell_type": "markdown",
   "id": "45ac1655-d623-46c0-9dea-0ce12d8b00f6",
   "metadata": {},
   "source": [
    "Example-87"
   ]
  },
  {
   "cell_type": "code",
   "execution_count": 373,
   "id": "db13cf08-a956-42dd-8ffe-4a8587a77ad2",
   "metadata": {},
   "outputs": [
    {
     "name": "stdout",
     "output_type": "stream",
     "text": [
      "hello, world!\n"
     ]
    }
   ],
   "source": [
    "a = \"Hello, World!\"\n",
    "print(a.lower())"
   ]
  },
  {
   "cell_type": "markdown",
   "id": "b3ab8e98-81ce-4183-a5bb-7f51bc8228a8",
   "metadata": {},
   "source": [
    "Example-88"
   ]
  },
  {
   "cell_type": "code",
   "execution_count": 376,
   "id": "20b28b5e-dcd6-4040-bd5c-2c13c9afa9e8",
   "metadata": {},
   "outputs": [
    {
     "name": "stdout",
     "output_type": "stream",
     "text": [
      "Hello, World!\n"
     ]
    }
   ],
   "source": [
    "a = \" Hello, World! \"\n",
    "print(a.strip()) # returns \"Hello, World!\""
   ]
  },
  {
   "cell_type": "markdown",
   "id": "63274e08-1625-4519-9e10-f5c258d5c2fb",
   "metadata": {},
   "source": [
    "Example-89"
   ]
  },
  {
   "cell_type": "code",
   "execution_count": 383,
   "id": "f2390847-6c17-41f0-979b-58bf69c75699",
   "metadata": {},
   "outputs": [
    {
     "name": "stdout",
     "output_type": "stream",
     "text": [
      "Zello, World!\n"
     ]
    }
   ],
   "source": [
    "a = \"Hello, World!\"\n",
    "print(a.replace(\"H\", \"Z\"))"
   ]
  },
  {
   "cell_type": "markdown",
   "id": "7d1cad9d-fae9-4908-92d9-78e184df43e4",
   "metadata": {},
   "source": [
    "Example-90"
   ]
  },
  {
   "cell_type": "code",
   "execution_count": 385,
   "id": "834879bd-705f-4c04-8b82-bb5587894ad5",
   "metadata": {},
   "outputs": [
    {
     "name": "stdout",
     "output_type": "stream",
     "text": [
      "['Hello', ' World!']\n"
     ]
    }
   ],
   "source": [
    "a = \"Hello, World!\"\n",
    "print(a.split(\",\")) # returns ['Hello', ' World!']"
   ]
  },
  {
   "cell_type": "markdown",
   "id": "a803b5b8-7ccb-4014-aa93-f051989cd210",
   "metadata": {},
   "source": [
    "Example-91"
   ]
  },
  {
   "cell_type": "code",
   "execution_count": 388,
   "id": "ee937f52-a62a-4729-9f8c-e18ce6c8fbdb",
   "metadata": {},
   "outputs": [
    {
     "name": "stdout",
     "output_type": "stream",
     "text": [
      "HelloWorld\n"
     ]
    }
   ],
   "source": [
    "a = \"Hello\"\n",
    "b = \"World\"\n",
    "c = a + b\n",
    "print(c)"
   ]
  },
  {
   "cell_type": "markdown",
   "id": "c198f373-0cf9-4ee7-a6fd-e2b72f10ea0a",
   "metadata": {},
   "source": [
    "Example-92"
   ]
  },
  {
   "cell_type": "code",
   "execution_count": 391,
   "id": "e0d69727-ce3c-48a2-9697-2f680fa263db",
   "metadata": {},
   "outputs": [
    {
     "name": "stdout",
     "output_type": "stream",
     "text": [
      "Hello World\n"
     ]
    }
   ],
   "source": [
    "a = \"Hello\"\n",
    "b = \"World\"\n",
    "c = a + \" \" + b\n",
    "print(c)"
   ]
  },
  {
   "cell_type": "markdown",
   "id": "a39e7224-ff1c-4d38-b167-09b8d8ec5a4a",
   "metadata": {},
   "source": [
    "Example-93"
   ]
  },
  {
   "cell_type": "code",
   "execution_count": 394,
   "id": "85f69cd4-704b-4dd0-8dcd-9a735406c26d",
   "metadata": {},
   "outputs": [
    {
     "name": "stdout",
     "output_type": "stream",
     "text": [
      "My name is John, I am 36\n"
     ]
    }
   ],
   "source": [
    "age = 36\n",
    "txt = f\"My name is John, I am {age}\"\n",
    "print(txt)"
   ]
  },
  {
   "cell_type": "markdown",
   "id": "124ca73d-3c91-46b5-8eff-f82ad57c79d5",
   "metadata": {},
   "source": [
    "Example-94"
   ]
  },
  {
   "cell_type": "code",
   "execution_count": 397,
   "id": "6e934a45-b47d-4f4c-9a19-9d8b6f96aa11",
   "metadata": {},
   "outputs": [
    {
     "name": "stdout",
     "output_type": "stream",
     "text": [
      "The price is 59 dollars\n"
     ]
    }
   ],
   "source": [
    "price = 59\n",
    "txt = f\"The price is {price} dollars\"\n",
    "print(txt)"
   ]
  },
  {
   "cell_type": "markdown",
   "id": "90e5eed9-38d2-48d9-b9f8-bbd3d3eed510",
   "metadata": {},
   "source": [
    "Example-95"
   ]
  },
  {
   "cell_type": "code",
   "execution_count": 400,
   "id": "18e99a85-45e2-4534-8e02-df94e45c8f87",
   "metadata": {},
   "outputs": [
    {
     "name": "stdout",
     "output_type": "stream",
     "text": [
      "The price is 59.00 dollars\n"
     ]
    }
   ],
   "source": [
    "price = 59\n",
    "txt = f\"The price is {price:.2f} dollars\"\n",
    "print(txt)"
   ]
  },
  {
   "cell_type": "markdown",
   "id": "aefca91e-4248-43cb-b6c8-6ed860fd4812",
   "metadata": {},
   "source": [
    "Example-96"
   ]
  },
  {
   "cell_type": "code",
   "execution_count": 406,
   "id": "a4f96c16-dac0-4089-9ec8-f08fd05359c3",
   "metadata": {},
   "outputs": [
    {
     "name": "stdout",
     "output_type": "stream",
     "text": [
      "The price is 1180 dollars\n"
     ]
    }
   ],
   "source": [
    "txt = f\"The price is {20 * 59} dollars\"\n",
    "print(txt)"
   ]
  },
  {
   "cell_type": "markdown",
   "id": "294c4dd8-c0d1-4c5d-96c5-beb44418494b",
   "metadata": {},
   "source": [
    "Example-97"
   ]
  },
  {
   "cell_type": "code",
   "execution_count": 408,
   "id": "0f57dc98-88fd-4552-970a-6d2c1e8cf898",
   "metadata": {},
   "outputs": [
    {
     "name": "stdout",
     "output_type": "stream",
     "text": [
      "We are the so-called \"Vikings\" from the north.\n"
     ]
    }
   ],
   "source": [
    "txt = \"We are the so-called \\\"Vikings\\\" from the north.\"\n",
    "print(txt) "
   ]
  },
  {
   "cell_type": "markdown",
   "id": "638ff54b-5292-4e2f-8f47-6b188b917255",
   "metadata": {},
   "source": [
    "Example-98"
   ]
  },
  {
   "cell_type": "code",
   "execution_count": 411,
   "id": "d8980e77-dd2b-418c-b0f6-d30d78ad089e",
   "metadata": {},
   "outputs": [
    {
     "name": "stdout",
     "output_type": "stream",
     "text": [
      "It's alright.\n"
     ]
    }
   ],
   "source": [
    "txt = 'It\\'s alright.' #Single Quote\n",
    "print(txt) "
   ]
  },
  {
   "cell_type": "markdown",
   "id": "f6d46c88-9362-4162-aaad-719e017b91b5",
   "metadata": {},
   "source": [
    "Example-99"
   ]
  },
  {
   "cell_type": "code",
   "execution_count": 413,
   "id": "b4c58910-132f-48bd-bd81-2a31c2dd0615",
   "metadata": {},
   "outputs": [
    {
     "name": "stdout",
     "output_type": "stream",
     "text": [
      "This will insert one \\ (backslash).\n"
     ]
    }
   ],
   "source": [
    "txt = \"This will insert one \\\\ (backslash).\"\n",
    "print(txt) \n"
   ]
  },
  {
   "cell_type": "markdown",
   "id": "8fd381b3-0915-414b-a427-fe4a2c9ee70f",
   "metadata": {},
   "source": [
    "Example-100"
   ]
  },
  {
   "cell_type": "code",
   "execution_count": 415,
   "id": "ccfc6a6c-2e65-4abd-b0a1-958650e232ca",
   "metadata": {},
   "outputs": [
    {
     "name": "stdout",
     "output_type": "stream",
     "text": [
      "Hello\n",
      "World!\n"
     ]
    }
   ],
   "source": [
    "txt = \"Hello\\nWorld!\" #New Line\n",
    "print(txt)"
   ]
  },
  {
   "cell_type": "markdown",
   "id": "a1917bc0-a57e-468e-a4bd-168d30e46a36",
   "metadata": {},
   "source": [
    "Example-101"
   ]
  },
  {
   "cell_type": "code",
   "execution_count": 417,
   "id": "b30c6dc0-2535-436d-aca7-a9b6eee141e0",
   "metadata": {},
   "outputs": [
    {
     "name": "stdout",
     "output_type": "stream",
     "text": [
      "World!\n"
     ]
    }
   ],
   "source": [
    "txt = \"Hello\\rWorld!\" #Carriage Return\n",
    "print(txt)"
   ]
  },
  {
   "cell_type": "markdown",
   "id": "a9aad4de-b9e9-4137-9a1a-3a740fad57ef",
   "metadata": {},
   "source": [
    "Example-102 "
   ]
  },
  {
   "cell_type": "code",
   "execution_count": 419,
   "id": "ec3a8bdc-8a23-431b-b075-4f7260660b87",
   "metadata": {},
   "outputs": [
    {
     "name": "stdout",
     "output_type": "stream",
     "text": [
      "Hello\tWorld!\n"
     ]
    }
   ],
   "source": [
    "txt = \"Hello\\tWorld!\" #Tab\n",
    "print(txt)"
   ]
  },
  {
   "cell_type": "markdown",
   "id": "9dec59a5-0730-4446-bb46-269f2c8bbeca",
   "metadata": {},
   "source": [
    "Example-103"
   ]
  },
  {
   "cell_type": "code",
   "execution_count": 421,
   "id": "aaa93df6-3169-4c56-89a1-6259a4ed6dc0",
   "metadata": {},
   "outputs": [
    {
     "name": "stdout",
     "output_type": "stream",
     "text": [
      "HelloWorld!\n"
     ]
    }
   ],
   "source": [
    "txt = \"Hello \\bWorld!\" #Backspace\n",
    "print(txt) "
   ]
  },
  {
   "cell_type": "markdown",
   "id": "c3842d86-482e-4e82-837f-9788bcce9439",
   "metadata": {},
   "source": [
    "Example-104"
   ]
  },
  {
   "cell_type": "code",
   "execution_count": 425,
   "id": "06b27bf4-13a1-4baf-a147-1e7849eea640",
   "metadata": {},
   "outputs": [
    {
     "name": "stdout",
     "output_type": "stream",
     "text": [
      "Hello\n"
     ]
    }
   ],
   "source": [
    "txt = \"\\110\\145\\154\\154\\157\" #Octal value\n",
    "print(txt) "
   ]
  },
  {
   "cell_type": "markdown",
   "id": "7b4a3538-13a5-4877-8904-007c1d611df4",
   "metadata": {},
   "source": [
    "Example-105"
   ]
  },
  {
   "cell_type": "code",
   "execution_count": 427,
   "id": "3b72ee8b-25a0-42be-b96c-e96f4d6bd7fc",
   "metadata": {},
   "outputs": [
    {
     "name": "stdout",
     "output_type": "stream",
     "text": [
      "Hello\n"
     ]
    }
   ],
   "source": [
    "txt = \"\\x48\\x65\\x6c\\x6c\\x6f\" #Hex value\n",
    "print(txt) "
   ]
  },
  {
   "cell_type": "code",
   "execution_count": null,
   "id": "20151a6e-b9e3-42c3-9f50-5f8ca496708c",
   "metadata": {},
   "outputs": [],
   "source": []
  }
 ],
 "metadata": {
  "kernelspec": {
   "display_name": "Python [conda env:base] *",
   "language": "python",
   "name": "conda-base-py"
  },
  "language_info": {
   "codemirror_mode": {
    "name": "ipython",
    "version": 3
   },
   "file_extension": ".py",
   "mimetype": "text/x-python",
   "name": "python",
   "nbconvert_exporter": "python",
   "pygments_lexer": "ipython3",
   "version": "3.12.7"
  }
 },
 "nbformat": 4,
 "nbformat_minor": 5
}
