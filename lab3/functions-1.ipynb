{
 "cells": [
  {
   "cell_type": "markdown",
   "id": "d9c5ebb8-d70e-498d-bd2d-6478ed9ca484",
   "metadata": {},
   "source": [
    "Functions-1"
   ]
  },
  {
   "cell_type": "code",
   "execution_count": 1,
   "id": "ff243930-79de-44f1-a5a1-9d3202542a6f",
   "metadata": {},
   "outputs": [
    {
     "name": "stdin",
     "output_type": "stream",
     "text": [
      " 45\n"
     ]
    },
    {
     "name": "stdout",
     "output_type": "stream",
     "text": [
      "1275.7285395\n"
     ]
    }
   ],
   "source": [
    "def my_function(m):\n",
    "    M = 28.3495231 * m\n",
    "    return M\n",
    "m = float(input())\n",
    "print(my_function(m))"
   ]
  },
  {
   "cell_type": "code",
   "execution_count": 3,
   "id": "279fd6c7-6edd-4196-ba0b-da1e14087644",
   "metadata": {},
   "outputs": [
    {
     "name": "stdin",
     "output_type": "stream",
     "text": [
      " 60\n"
     ]
    },
    {
     "name": "stdout",
     "output_type": "stream",
     "text": [
      "15.555555555555557\n"
     ]
    }
   ],
   "source": [
    "def convert():\n",
    "    F = int(input())\n",
    "    print( (5 / 9) * (F - 32))\n",
    "convert()"
   ]
  },
  {
   "cell_type": "code",
   "execution_count": 7,
   "id": "130f6fba-9eba-4095-8b45-728897807a16",
   "metadata": {},
   "outputs": [
    {
     "name": "stdin",
     "output_type": "stream",
     "text": [
      " 35\n",
      " 94\n"
     ]
    },
    {
     "name": "stdout",
     "output_type": "stream",
     "text": [
      "Rabbit and Chicken:  12 23\n"
     ]
    }
   ],
   "source": [
    "def solution(head,legs):\n",
    "    if legs % 2 != 0 or head == 0 or head > legs:\n",
    "        print(\"No solution\")\n",
    "    else:\n",
    "        r = int((legs-2*head)/2)\n",
    "        c = int(head - r)\n",
    "        print(\"Rabbit and Chicken: \",  r, c)\n",
    "head = int(input())\n",
    "legs = int(input())\n",
    "solution(head, legs)"
   ]
  },
  {
   "cell_type": "code",
   "execution_count": 9,
   "id": "949e05ec-8367-4033-8c26-7ac4e447190d",
   "metadata": {},
   "outputs": [
    {
     "name": "stdout",
     "output_type": "stream",
     "text": [
      "2\n",
      "3\n",
      "5\n",
      "7\n"
     ]
    }
   ],
   "source": [
    "a = [2,3,4,5,6,7,8,9,10]\n",
    "for i in a:\n",
    "    ok = True\n",
    "    for j in range(2,i):\n",
    "        if i%j==0:\n",
    "            ok = False\n",
    "            break\n",
    "    if ok:\n",
    "        print(i)"
   ]
  },
  {
   "cell_type": "code",
   "execution_count": 11,
   "id": "107e3680-e650-4a83-b324-2e1e02fcb4a5",
   "metadata": {},
   "outputs": [
    {
     "name": "stdin",
     "output_type": "stream",
     "text": [
      " 5 546 3 2 8\n"
     ]
    },
    {
     "name": "stdout",
     "output_type": "stream",
     "text": [
      "5\n",
      "3\n",
      "2\n"
     ]
    }
   ],
   "source": [
    "a = [int(x) for x in input().split()]\n",
    "for i in a:\n",
    "    if i == 1:\n",
    "        continue\n",
    "    ok = True\n",
    "    for j in range(2,i):\n",
    "        if i%j==0:\n",
    "            ok = False\n",
    "            break\n",
    "    if ok:\n",
    "        print(i)"
   ]
  },
  {
   "cell_type": "code",
   "execution_count": 13,
   "id": "5d336547-19df-437e-88ea-8f4be4253296",
   "metadata": {},
   "outputs": [
    {
     "name": "stdin",
     "output_type": "stream",
     "text": [
      " ABC\n"
     ]
    },
    {
     "name": "stdout",
     "output_type": "stream",
     "text": [
      "ABC\n",
      "ACB\n",
      "BAC\n",
      "BCA\n",
      "CAB\n",
      "CBA\n"
     ]
    }
   ],
   "source": [
    "from itertools import permutations\n",
    "a = input()\n",
    "x = [''.join(z) for z in permutations(a)]\n",
    "for z in x:\n",
    "    print(z)"
   ]
  },
  {
   "cell_type": "code",
   "execution_count": 15,
   "id": "e9d90889-2b7a-49bf-8e07-d8a1abdfab1b",
   "metadata": {},
   "outputs": [
    {
     "name": "stdin",
     "output_type": "stream",
     "text": [
      " we are ready\n"
     ]
    },
    {
     "name": "stdout",
     "output_type": "stream",
     "text": [
      " ready are we\n"
     ]
    }
   ],
   "source": [
    "a = input().split()\n",
    "x = len(a)\n",
    "s = ''\n",
    "for i in range(x-1,-1,-1):\n",
    "    s+=' ' + a[i]\n",
    "print(s)"
   ]
  },
  {
   "cell_type": "code",
   "execution_count": 17,
   "id": "90ccf082-6df7-4a5f-a678-4c982be625d0",
   "metadata": {},
   "outputs": [
    {
     "name": "stdin",
     "output_type": "stream",
     "text": [
      " 45 2 3 4 3\n"
     ]
    },
    {
     "data": {
      "text/plain": [
       "False"
      ]
     },
     "execution_count": 17,
     "metadata": {},
     "output_type": "execute_result"
    }
   ],
   "source": [
    "def has_33(a):\n",
    "    for i in range(len(a)-1):\n",
    "        if a[i]== 3 and a[i+1]==3:\n",
    "            return True\n",
    "    return False\n",
    "a = [int(x) for x in input().split()]\n",
    "has_33(a)"
   ]
  },
  {
   "cell_type": "code",
   "execution_count": 19,
   "id": "5efefe8d-80a4-42e6-abcc-dddd14f2d06d",
   "metadata": {},
   "outputs": [
    {
     "name": "stdin",
     "output_type": "stream",
     "text": [
      " 85\n"
     ]
    },
    {
     "data": {
      "text/plain": [
       "False"
      ]
     },
     "execution_count": 19,
     "metadata": {},
     "output_type": "execute_result"
    }
   ],
   "source": [
    "def has_007(a):\n",
    "    b = []\n",
    "    for i in a:\n",
    "        if i == 7 or i == 0:\n",
    "            b.append(i)\n",
    "    for i in range(len(b)-2):\n",
    "        if b[i]==0 and b[i+1]==0 and b[i+2]==7:\n",
    "            return True\n",
    "    return False\n",
    "\n",
    "a = [int(x) for x in input().split()]\n",
    "has_007(a)"
   ]
  },
  {
   "cell_type": "code",
   "execution_count": 21,
   "id": "39f618e3-4576-4250-9715-aad978cc9cd2",
   "metadata": {},
   "outputs": [
    {
     "name": "stdin",
     "output_type": "stream",
     "text": [
      " 31\n"
     ]
    },
    {
     "name": "stdout",
     "output_type": "stream",
     "text": [
      "124724.98666666666\n"
     ]
    }
   ],
   "source": [
    "r = float(input())\n",
    "print(4/3*(3.14 * (r**3)))"
   ]
  },
  {
   "cell_type": "code",
   "execution_count": 23,
   "id": "f6a8f1f7-c8da-43df-b9dc-6c2d2d4fa212",
   "metadata": {},
   "outputs": [
    {
     "name": "stdin",
     "output_type": "stream",
     "text": [
      " as asd asd\n"
     ]
    },
    {
     "name": "stdout",
     "output_type": "stream",
     "text": [
      "['as', 'asd']\n"
     ]
    }
   ],
   "source": [
    "def uni(a):\n",
    "    res = [a[0]] \n",
    "    for i in a:\n",
    "        ok = True\n",
    "        for j in res:\n",
    "            if i == j:\n",
    "                ok = False\n",
    "                break;\n",
    "        if ok:\n",
    "            res.append(i)\n",
    "    return res;\n",
    "a = [str(i) for i in input().split()] \n",
    "print(uni(a))"
   ]
  },
  {
   "cell_type": "code",
   "execution_count": 25,
   "id": "76d4c4c2-9f14-4914-9b32-e4c973b9f0d8",
   "metadata": {},
   "outputs": [
    {
     "name": "stdin",
     "output_type": "stream",
     "text": [
      " 5465\n"
     ]
    },
    {
     "name": "stdout",
     "output_type": "stream",
     "text": [
      "False\n"
     ]
    }
   ],
   "source": [
    "def pal(a):\n",
    "    for i in range(0,len(a)):\n",
    "        if a[i]!=a[len(a)-i-1]:\n",
    "            return False\n",
    "    return True\n",
    "\n",
    "b = input()\n",
    "print(pal(b))"
   ]
  },
  {
   "cell_type": "code",
   "execution_count": 27,
   "id": "7db65ec2-cd7c-4efc-bb54-4028f2fbad16",
   "metadata": {},
   "outputs": [
    {
     "name": "stdin",
     "output_type": "stream",
     "text": [
      " 2 3 5\n"
     ]
    },
    {
     "name": "stdout",
     "output_type": "stream",
     "text": [
      "**\n",
      "***\n",
      "*****\n"
     ]
    }
   ],
   "source": [
    "def histo(a):\n",
    "    for i in a:\n",
    "        print(\"*\"*i)\n",
    "a = [int(x) for x in input().split()]\n",
    "histo(a)"
   ]
  },
  {
   "cell_type": "code",
   "execution_count": 29,
   "id": "f1f64748-6fbb-4e58-9643-41eddcd14781",
   "metadata": {},
   "outputs": [
    {
     "name": "stdin",
     "output_type": "stream",
     "text": [
      "Hello! What is your name?\n",
      " kbtu\n"
     ]
    },
    {
     "name": "stdout",
     "output_type": "stream",
     "text": [
      "\n",
      "Well, kbtu, I am thinking of a number between 1 and 20.\n"
     ]
    },
    {
     "name": "stdin",
     "output_type": "stream",
     "text": [
      "Take a guess.\n",
      " 12\n"
     ]
    },
    {
     "name": "stdout",
     "output_type": "stream",
     "text": [
      "Your guess is too low.\n"
     ]
    },
    {
     "name": "stdin",
     "output_type": "stream",
     "text": [
      "Take a guess.\n",
      " 16\n"
     ]
    },
    {
     "name": "stdout",
     "output_type": "stream",
     "text": [
      "Your guess is too low.\n"
     ]
    },
    {
     "name": "stdin",
     "output_type": "stream",
     "text": [
      "Take a guess.\n",
      " 19\n"
     ]
    },
    {
     "name": "stdout",
     "output_type": "stream",
     "text": [
      "Good job, kbtu! You guessed my number in 3 guesses!\n"
     ]
    }
   ],
   "source": [
    "import random\n",
    "def guess_the_number():\n",
    "    number_to_guess = random.randint(1, 20)\n",
    "    name = input(\"Hello! What is your name?\\n\")\n",
    "    print(f\"\\nWell, {name}, I am thinking of a number between 1 and 20.\")\n",
    "    guess_count = 0\n",
    "    while True:\n",
    "        guess = int(input(\"Take a guess.\\n\"))\n",
    "        guess_count += 1\n",
    "        if guess < number_to_guess:\n",
    "            print(\"Your guess is too low.\")\n",
    "        elif guess > number_to_guess:\n",
    "            print(\"Your guess is too high.\")\n",
    "        else:\n",
    "            print(f\"Good job, {name}! You guessed my number in {guess_count} guesses!\")\n",
    "            break\n",
    "guess_the_number()"
   ]
  },
  {
   "cell_type": "code",
   "execution_count": null,
   "id": "8700116c-fa5f-4dbf-a1d9-03ed3ba476da",
   "metadata": {},
   "outputs": [],
   "source": []
  }
 ],
 "metadata": {
  "kernelspec": {
   "display_name": "Python [conda env:base] *",
   "language": "python",
   "name": "conda-base-py"
  },
  "language_info": {
   "codemirror_mode": {
    "name": "ipython",
    "version": 3
   },
   "file_extension": ".py",
   "mimetype": "text/x-python",
   "name": "python",
   "nbconvert_exporter": "python",
   "pygments_lexer": "ipython3",
   "version": "3.12.7"
  }
 },
 "nbformat": 4,
 "nbformat_minor": 5
}
