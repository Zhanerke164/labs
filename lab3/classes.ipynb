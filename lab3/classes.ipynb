{
 "cells": [
  {
   "cell_type": "markdown",
   "id": "564f1a7b-f0ac-4b97-b724-aac990db1557",
   "metadata": {},
   "source": [
    "Classes"
   ]
  },
  {
   "cell_type": "code",
   "execution_count": 2,
   "id": "0aba63ae-88bd-4bb9-93c5-2ca6a4972b48",
   "metadata": {},
   "outputs": [
    {
     "name": "stdin",
     "output_type": "stream",
     "text": [
      " abc\n"
     ]
    },
    {
     "name": "stdout",
     "output_type": "stream",
     "text": [
      "ABC\n"
     ]
    }
   ],
   "source": [
    "class stm:\n",
    "    def __init__(self):\n",
    "        self.a = \"\"\n",
    "    def gts(self):\n",
    "        self.a = input()\n",
    "    def prt(self):\n",
    "        print(self.a.upper())\n",
    "b = stm()\n",
    "b.gts()\n",
    "b.prt()"
   ]
  },
  {
   "cell_type": "code",
   "execution_count": 4,
   "id": "4cdf4d2f-5a7a-43da-bad4-edd81dab9308",
   "metadata": {},
   "outputs": [
    {
     "name": "stdin",
     "output_type": "stream",
     "text": [
      " 5\n"
     ]
    },
    {
     "name": "stdout",
     "output_type": "stream",
     "text": [
      "25\n"
     ]
    },
    {
     "name": "stdin",
     "output_type": "stream",
     "text": [
      " 4\n",
      " 5\n"
     ]
    },
    {
     "name": "stdout",
     "output_type": "stream",
     "text": [
      "20\n"
     ]
    }
   ],
   "source": [
    "class shape():\n",
    "    def __init__(self):\n",
    "        return 0\n",
    "class square(shape):\n",
    "    def __init__(self, length):\n",
    "        self.length = length\n",
    "    def area(self):\n",
    "        return self.length ** 2\n",
    "class rectangle(shape):\n",
    "    def __init__(self, lenth, width):\n",
    "        self.lenth = lenth\n",
    "        self.width = width\n",
    "    def area(self):\n",
    "        return self.lenth * self.width\n",
    "n = int(input())\n",
    "b = square(n)\n",
    "print(b.area())\n",
    "fir = int(input())\n",
    "sec = int(input())\n",
    "d = rectangle(fir,sec)\n",
    "print(d.area())"
   ]
  },
  {
   "cell_type": "code",
   "execution_count": 8,
   "id": "aa6cfbb9-3cdd-497a-9ddc-5a63b7bbd141",
   "metadata": {},
   "outputs": [
    {
     "name": "stdin",
     "output_type": "stream",
     "text": [
      " 1\n",
      " 1\n"
     ]
    },
    {
     "name": "stdout",
     "output_type": "stream",
     "text": [
      "1 1\n"
     ]
    },
    {
     "name": "stdin",
     "output_type": "stream",
     "text": [
      " 2\n",
      " 2\n",
      " 4\n",
      " 4\n"
     ]
    },
    {
     "data": {
      "text/plain": [
       "2.8284271247461903"
      ]
     },
     "execution_count": 8,
     "metadata": {},
     "output_type": "execute_result"
    }
   ],
   "source": [
    "import math\n",
    "class point():\n",
    "    def __init__(self, x , y):\n",
    "        self.x = x\n",
    "        self.y = y\n",
    "    def show(self):\n",
    "        print(self.x , self.y)\n",
    "    def move(self, oth):\n",
    "        self.x = oth.x\n",
    "        self.y = oth.y\n",
    "    def dist(self, ot):\n",
    "        return math.sqrt((self.x - ot.x) ** 2 + (self.y - ot.y) ** 2)\n",
    "x = int(input())\n",
    "y = int(input())\n",
    "a = point(x,y)\n",
    "a.show()\n",
    "x1 = int(input())\n",
    "y1 = int(input())\n",
    "b = point(x1,y1)\n",
    "a.move(b)\n",
    "x2 = int(input())\n",
    "y2 = int(input())\n",
    "c = point(x2,y2)\n",
    "a.dist(c)"
   ]
  },
  {
   "cell_type": "code",
   "execution_count": 10,
   "id": "daf5b3ba-714a-446e-a07e-0f7af71f1216",
   "metadata": {},
   "outputs": [
    {
     "name": "stdin",
     "output_type": "stream",
     "text": [
      " 545\n",
      " 1\n"
     ]
    },
    {
     "name": "stdout",
     "output_type": "stream",
     "text": [
      "Deposited 1. New balance: 546\n"
     ]
    },
    {
     "name": "stdin",
     "output_type": "stream",
     "text": [
      " 45\n"
     ]
    },
    {
     "name": "stdout",
     "output_type": "stream",
     "text": [
      "Withdrew 45. New balance: 501\n"
     ]
    }
   ],
   "source": [
    "class bank:\n",
    "    def __init__(self,owner,balance):\n",
    "        self.owner = owner\n",
    "        self.balance = balance\n",
    "    def deposit(self, amount):\n",
    "        self.balance += amount\n",
    "        print(f\"Deposited {amount}. New balance: {self.balance}\")\n",
    "    def withdraw(self,amount):\n",
    "        if self.balance < amount:\n",
    "            print(\"Insufficient funds!\")\n",
    "        else:\n",
    "            self.balance -= amount\n",
    "            print(f\"Withdrew {amount}. New balance: {self.balance}\")\n",
    "\n",
    "fir = int(input())\n",
    "a = bank(\"E\", fir)\n",
    "dep = int(input())\n",
    "a.deposit(dep)\n",
    "get = int(input())\n",
    "a.withdraw(get)"
   ]
  },
  {
   "cell_type": "code",
   "execution_count": 12,
   "id": "43247b06-91f7-49e1-9aeb-57f5b00889df",
   "metadata": {},
   "outputs": [
    {
     "name": "stdin",
     "output_type": "stream",
     "text": [
      " 3 5\n"
     ]
    },
    {
     "name": "stdout",
     "output_type": "stream",
     "text": [
      "Prime numbers: [3, 5]\n"
     ]
    }
   ],
   "source": [
    "def is_prime(n):\n",
    "    if n < 2:\n",
    "        return False\n",
    "    for i in range(2, n):\n",
    "        if n % i == 0:\n",
    "            return False\n",
    "    return True\n",
    "i = [int(x) for x in input().split()]\n",
    "pn = list(filter(lambda x: is_prime(x), i))\n",
    "print(\"Prime numbers:\", pn)"
   ]
  },
  {
   "cell_type": "code",
   "execution_count": null,
   "id": "331d587f-067d-4189-a007-d7039d422869",
   "metadata": {},
   "outputs": [],
   "source": []
  }
 ],
 "metadata": {
  "kernelspec": {
   "display_name": "Python [conda env:base] *",
   "language": "python",
   "name": "conda-base-py"
  },
  "language_info": {
   "codemirror_mode": {
    "name": "ipython",
    "version": 3
   },
   "file_extension": ".py",
   "mimetype": "text/x-python",
   "name": "python",
   "nbconvert_exporter": "python",
   "pygments_lexer": "ipython3",
   "version": "3.12.7"
  }
 },
 "nbformat": 4,
 "nbformat_minor": 5
}
